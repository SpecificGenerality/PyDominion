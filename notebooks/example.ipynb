{
 "metadata": {
  "language_info": {
   "codemirror_mode": {
    "name": "ipython",
    "version": 3
   },
   "file_extension": ".py",
   "mimetype": "text/x-python",
   "name": "python",
   "nbconvert_exporter": "python",
   "pygments_lexer": "ipython3",
   "version": "3.8.5-final"
  },
  "orig_nbformat": 2,
  "kernelspec": {
   "name": "python3",
   "display_name": "Python 3",
   "language": "python"
  }
 },
 "nbformat": 4,
 "nbformat_minor": 2,
 "cells": [
  {
   "cell_type": "code",
   "execution_count": 86,
   "metadata": {},
   "outputs": [],
   "source": [
    "from mlp import PredictorMLP\n",
    "from mlprunner import train_mlp\n",
    "from config import GameConfig\n",
    "from player import load_players\n",
    "from enums import StartingSplit, FeatureType\n",
    "from predictor import sample_training_batch, test_mlp\n",
    "import numpy as np\n",
    "import torch.nn as nn\n",
    "import torch\n",
    "import os\n",
    "import pandas as pd\n",
    "from sklearn.metrics import mean_squared_error"
   ]
  },
  {
   "cell_type": "code",
   "execution_count": 48,
   "metadata": {},
   "outputs": [],
   "source": [
    "config = GameConfig(split=StartingSplit.StartingRandomSplit, prosperity=False, num_players=2, feature_type=FeatureType.ReducedFeature, sandbox=True)\n",
    "players = load_players(['BM', 'BM'], None, config, train=True)"
   ]
  },
  {
   "cell_type": "code",
   "execution_count": 75,
   "metadata": {},
   "outputs": [
    {
     "output_type": "stream",
     "name": "stderr",
     "text": [
      "  0%|          | 14/10000 [00:00<01:13, 135.90it/s]Generating training data from self-play...\n",
      "100%|██████████| 10000/10000 [01:09<00:00, 143.62it/s]\n"
     ]
    }
   ],
   "source": [
    "X, y = sample_training_batch(10000, -1, config, players)"
   ]
  },
  {
   "cell_type": "code",
   "execution_count": 78,
   "metadata": {},
   "outputs": [],
   "source": [
    "model = PredictorMLP(config.feature_size, (config.feature_size + 1) // 2, 1)\n",
    "criterion = nn.MSELoss()"
   ]
  },
  {
   "cell_type": "code",
   "execution_count": 34,
   "metadata": {},
   "outputs": [],
   "source": [
    "project_root = '/home/justiny/Documents/Projects/PyDominion'\n",
    "model_dir = os.path.join(project_root, 'models')"
   ]
  },
  {
   "cell_type": "code",
   "execution_count": 35,
   "metadata": {},
   "outputs": [],
   "source": [
    "model_name = 'bm-bm-mlp-pred-10k-30-1e-1'"
   ]
  },
  {
   "cell_type": "code",
   "execution_count": 77,
   "metadata": {},
   "outputs": [
    {
     "output_type": "stream",
     "name": "stderr",
     "text": [
      " 24%|██▍       | 2382/10000 [00:00<00:00, 23679.28it/s]Generating dataset for dataloader...\n",
      "100%|██████████| 10000/10000 [00:00<00:00, 25381.24it/s]\n",
      "  0%|          | 0/50 [00:00<?, ?it/s]Training MLP...\n",
      "100%|██████████| 50/50 [06:22<00:00,  7.65s/it]\n"
     ]
    }
   ],
   "source": [
    "y1 = np.array(y, dtype=np.float32)\n",
    "train_mlp(X, y1, model, nn.MSELoss(), epochs=50, save_epochs=10, path=os.path.join(model_dir, model_name))"
   ]
  },
  {
   "cell_type": "code",
   "execution_count": 65,
   "metadata": {},
   "outputs": [],
   "source": [
    "y_pred = model(torch.tensor(X).cuda())\n",
    "y_labels = np.array(y).reshape(y_pred.shape)"
   ]
  },
  {
   "cell_type": "code",
   "execution_count": 87,
   "metadata": {},
   "outputs": [
    {
     "output_type": "execute_result",
     "data": {
      "text/plain": [
       "0.11117749924175713"
      ]
     },
     "metadata": {},
     "execution_count": 87
    }
   ],
   "source": [
    "mean_squared_error(y_pred, y_labels)"
   ]
  }
 ]
}