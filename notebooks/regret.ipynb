{
 "metadata": {
  "language_info": {
   "codemirror_mode": {
    "name": "ipython",
    "version": 3
   },
   "file_extension": ".py",
   "mimetype": "text/x-python",
   "name": "python",
   "nbconvert_exporter": "python",
   "pygments_lexer": "ipython3",
   "version": "3.8.5-final"
  },
  "orig_nbformat": 2,
  "kernelspec": {
   "name": "python385jvsc74a57bd0b9d92e466e4b691ba48e3b99437a968eb61063b4bdb477b015d553c3bed5fbd9",
   "display_name": "Python 3.8.5 64-bit"
  },
  "metadata": {
   "interpreter": {
    "hash": "b9d92e466e4b691ba48e3b99437a968eb61063b4bdb477b015d553c3bed5fbd9"
   }
  }
 },
 "nbformat": 4,
 "nbformat_minor": 2,
 "cells": [
  {
   "cell_type": "code",
   "execution_count": 10,
   "metadata": {},
   "outputs": [],
   "source": [
    "import logging\n",
    "\n",
    "from config import GameConfig\n",
    "from enums import StartingSplit\n",
    "from env import DefaultEnvironment\n",
    "from mcts import GameTree\n",
    "from player import load_players"
   ]
  },
  {
   "cell_type": "code",
   "execution_count": 11,
   "metadata": {},
   "outputs": [],
   "source": [
    "project_root = '/home/justiny/Documents/Projects/PyDominion'\n",
    "# project_root = '/home/justiny/Princeton/PyDominion'\n",
    "model_dir = os.path.join(project_root, 'models')\n",
    "\n",
    "tree = None\n",
    "rollout_name = 'default-mlog-sandbox-paper'\n",
    "rollout_path = os.path.join(model_dir, rollout_name)\n",
    "\n",
    "logger = logging.getLogger()\n",
    "logger.setLevel(logging.ERROR)"
   ]
  },
  {
   "cell_type": "code",
   "execution_count": 12,
   "metadata": {},
   "outputs": [],
   "source": [
    "splits = [StartingSplit.Starting34Split, StartingSplit.Starting25Split]\n",
    "config = GameConfig(splits=splits, sandbox=True, num_players=2, must_include=[])\n",
    "players = load_players(['BM', 'UCT'], [rollout_path], tree=tree, rollout_type='mlog', train=False, use_tree=False)\n",
    "\n",
    "env = DefaultEnvironment(config, players, logger=logger)"
   ]
  }
 ]
}