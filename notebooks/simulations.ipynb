{
 "cells": [
  {
   "cell_type": "code",
   "execution_count": 1,
   "metadata": {},
   "outputs": [],
   "source": [
    "%load_ext autoreload\n",
    "%autoreload 2"
   ]
  },
  {
   "cell_type": "code",
   "execution_count": 2,
   "metadata": {},
   "outputs": [],
   "source": [
    "import os\n",
    "import logging\n",
    "\n",
    "from actioncard import Chapel, Moat, Village, Militia, Moneylender, Smithy, CouncilRoom, Laboratory, Market, Witch\n",
    "from aiutils import load, save\n",
    "from config import GameConfig\n",
    "from constants import ACTION, BUY\n",
    "from enums import StartingSplit\n",
    "from env import DefaultEnvironment, FullEnvironment\n",
    "from player import load_players\n",
    "from simulations import simulate"
   ]
  },
  {
   "cell_type": "code",
   "execution_count": 3,
   "metadata": {},
   "outputs": [],
   "source": [
    "default_kingdom = [Chapel, Moat, Village, Militia, Moneylender, Smithy, CouncilRoom, Laboratory, Market, Witch]"
   ]
  },
  {
   "cell_type": "code",
   "execution_count": 4,
   "metadata": {},
   "outputs": [],
   "source": [
    "project_root = '/home/justiny/Documents/Projects/PyDominion'\n",
    "# project_root = '/home/justiny/Princeton/PyDominion'\n",
    "model_dir = os.path.join(project_root, 'models')"
   ]
  },
  {
   "cell_type": "code",
   "execution_count": 5,
   "metadata": {},
   "outputs": [],
   "source": [
    "logger = logging.getLogger()\n",
    "logger.setLevel(logging.ERROR)\n",
    "# logger.setLevel(BUY)\n",
    "# logger.setLevel(ACTION)"
   ]
  },
  {
   "cell_type": "markdown",
   "metadata": {},
   "source": [
    "## Rule-Based Bots ##"
   ]
  },
  {
   "cell_type": "code",
   "execution_count": 90,
   "metadata": {},
   "outputs": [],
   "source": [
    "config = GameConfig(splits=[StartingSplit.StartingRandomSplit, StartingSplit.StartingRandomSplit], sandbox=True, num_players=2, must_include=[])\n",
    "players = load_players(['BM', 'BM'], None, map_location='cpu', train=False)\n",
    "agent = players[0]\n",
    "env = FullEnvironment(config, players, logger=logger)"
   ]
  },
  {
   "cell_type": "code",
   "execution_count": 91,
   "metadata": {},
   "outputs": [],
   "source": [
    "n = 10000"
   ]
  },
  {
   "cell_type": "code",
   "execution_count": 92,
   "metadata": {},
   "outputs": [
    {
     "name": "stderr",
     "output_type": "stream",
     "text": [
      "100%|██████████| 10000/10000 [03:08<00:00, 53.01it/s]\n",
      "===SUMMARY===\n",
      "{0: 5716, 1: 5574, 'ProvinceWins': 10000, 'Ties': 1290}\n"
     ]
    }
   ],
   "source": [
    "sim_stats = simulate(env, n, None, turn_log=True, action_log=True)"
   ]
  },
  {
   "cell_type": "code",
   "execution_count": 95,
   "metadata": {},
   "outputs": [],
   "source": [
    "data_path = os.path.join(project_root, 'data', 'bm-bm-10k-stats')"
   ]
  },
  {
   "cell_type": "code",
   "execution_count": 96,
   "metadata": {},
   "outputs": [],
   "source": [
    "save(data_path, sim_stats)"
   ]
  },
  {
   "cell_type": "markdown",
   "metadata": {},
   "source": [
    "## Tree Simulations ##"
   ]
  },
  {
   "cell_type": "code",
   "execution_count": 8,
   "metadata": {},
   "outputs": [],
   "source": [
    "from mcts import GameTree"
   ]
  },
  {
   "cell_type": "code",
   "execution_count": 6,
   "metadata": {},
   "outputs": [],
   "source": [
    "# tree_name = 'full-paper-tree-uniform'\n",
    "# tree_name = 'r-r-mcts-bm-full-100k-srat-uniform-paper'\n",
    "# tree_name = 'r-dw-mcts-bm-full-160k-srat-uniform-paper'\n",
    "tree_name = 'full-paper-tree-160k-trimmed-lowc'\n",
    "tree_path = os.path.join(model_dir, tree_name)\n",
    "rollout_name = 'default-mlog-full-paper'\n",
    "rollout_path = os.path.join(model_dir, rollout_name)"
   ]
  },
  {
   "cell_type": "code",
   "execution_count": 38,
   "metadata": {},
   "outputs": [],
   "source": [
    "# tree_name = 'default-sandbox-uct-paper'\n",
    "# tree_name = 'default-sandbox-uct-paper'\n",
    "# tree_name = 'r-r-mcts-bm-hot-start-sandbox-100k-srat-uniform'\n",
    "rollout_name = 'default-mlog-sandbox-paper'\n",
    "tree_path = os.path.join(model_dir, tree_name)\n",
    "rollout_path = os.path.join(model_dir, rollout_name)"
   ]
  },
  {
   "cell_type": "code",
   "execution_count": 9,
   "metadata": {},
   "outputs": [],
   "source": [
    "tree = GameTree.load(tree_path, train=False, _skip_level=False, selection='max')"
   ]
  },
  {
   "cell_type": "code",
   "execution_count": 36,
   "metadata": {},
   "outputs": [
    {
     "data": {
      "text/plain": [
       "'robust'"
      ]
     },
     "execution_count": 36,
     "metadata": {},
     "output_type": "execute_result"
    }
   ],
   "source": [
    "tree.selection = 'robust'\n",
    "tree.selection"
   ]
  },
  {
   "cell_type": "code",
   "execution_count": 67,
   "metadata": {},
   "outputs": [],
   "source": [
    "tree.skip_level = False"
   ]
  },
  {
   "cell_type": "code",
   "execution_count": 35,
   "metadata": {},
   "outputs": [],
   "source": [
    "# config = GameConfig(splits=[StartingSplit.Starting25Split, StartingSplit.Starting25Split], sandbox=True, num_players=2)\n",
    "# splits = [StartingSplit.Starting34Split, StartingSplit.Starting25Split]\n",
    "splits = [StartingSplit.StartingRandomSplit, StartingSplit.StartingRandomSplit]\n",
    "# config = GameConfig(splits=splits, sandbox=True, num_players=2, must_include=[])\n",
    "config = GameConfig(splits=splits, sandbox=False, must_include=default_kingdom)\n",
    "players = load_players(['UCT', 'BM'], [rollout_path], tree=tree, rollout_type='mlog', train=False, use_tree=True)\n",
    "# agent = load_players(['UCT'], [rollout_path], tree=tree, train=False, rollout_type='mlog', use_tree=True)[0]\n",
    "players = [agent, agent]\n",
    "\n",
    "env = DefaultEnvironment(config, players, logger=logger)"
   ]
  },
  {
   "cell_type": "code",
   "execution_count": 30,
   "metadata": {},
   "outputs": [],
   "source": [
    "logger.setLevel(logging.ERROR)\n",
    "# logger.setLevel(BUY)"
   ]
  },
  {
   "cell_type": "code",
   "execution_count": 36,
   "metadata": {
    "tags": []
   },
   "outputs": [
    {
     "name": "stderr",
     "output_type": "stream",
     "text": [
      "100%|██████████| 1000/1000 [00:26<00:00, 38.31it/s]\n"
     ]
    },
    {
     "name": "stdout",
     "output_type": "stream",
     "text": [
      "===SUMMARY===\n",
      "{0: 578, 1: 436, 'ProvinceWins': 974, 'Ties': 14}\n"
     ]
    }
   ],
   "source": [
    "sim_data = simulate(env, 1000, tree, turn_log=False, action_log=False, card_log=False)\n",
    "# sim_data = simulate(env, 1, tree, turn_log=False, action_log=False, card_log=False)"
   ]
  },
  {
   "cell_type": "code",
   "execution_count": 11,
   "metadata": {},
   "outputs": [],
   "source": [
    "data_dir = os.path.join(project_root, 'data')\n",
    "data_name ='ucthot25-bm25-1k-data'\n",
    "data_path = os.path.join(data_dir, data_name)"
   ]
  },
  {
   "cell_type": "code",
   "execution_count": 12,
   "metadata": {},
   "outputs": [],
   "source": [
    "save(data_path, sim_data)"
   ]
  }
 ],
 "metadata": {
  "kernelspec": {
   "display_name": "Python 3.8.8 64-bit ('pydominion': conda)",
   "language": "python",
   "name": "python388jvsc74a57bd08e35030b590e9f8402bd0b3ea8a5924dfbbdf071e9d6eebc2a90ff2ccbebd449"
  },
  "language_info": {
   "codemirror_mode": {
    "name": "ipython",
    "version": 3
   },
   "file_extension": ".py",
   "mimetype": "text/x-python",
   "name": "python",
   "nbconvert_exporter": "python",
   "pygments_lexer": "ipython3",
   "version": "3.8.8"
  },
  "metadata": {
   "interpreter": {
    "hash": "b9d92e466e4b691ba48e3b99437a968eb61063b4bdb477b015d553c3bed5fbd9"
   }
  }
 },
 "nbformat": 4,
 "nbformat_minor": 2
}
