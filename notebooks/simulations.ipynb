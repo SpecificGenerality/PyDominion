{
 "metadata": {
  "language_info": {
   "codemirror_mode": {
    "name": "ipython",
    "version": 3
   },
   "file_extension": ".py",
   "mimetype": "text/x-python",
   "name": "python",
   "nbconvert_exporter": "python",
   "pygments_lexer": "ipython3",
   "version": "3.8.5-final"
  },
  "orig_nbformat": 2,
  "kernelspec": {
   "name": "python3",
   "display_name": "Python 3",
   "language": "python"
  }
 },
 "nbformat": 4,
 "nbformat_minor": 2,
 "cells": [
  {
   "cell_type": "code",
   "execution_count": 1,
   "metadata": {},
   "outputs": [],
   "source": [
    "%load_ext autoreload\n",
    "%autoreload 2"
   ]
  },
  {
   "cell_type": "code",
   "execution_count": 2,
   "metadata": {},
   "outputs": [],
   "source": [
    "import os\n",
    "import logging\n",
    "import torch\n",
    "\n",
    "from actioncard import Chapel, Moat, Village, Militia, Moneylender, Smithy, CouncilRoom, Laboratory, Market, Witch\n",
    "from aiutils import load, save\n",
    "from buyagenda import BigMoneyBuyAgenda\n",
    "from config import GameConfig \n",
    "from constants import BUY\n",
    "from enums import StartingSplit\n",
    "from env import DefaultEnvironment\n",
    "from player import HeuristicPlayer, load_players, PredictorMLPPlayer\n",
    "from simulations import simulate"
   ]
  },
  {
   "cell_type": "code",
   "execution_count": 3,
   "metadata": {},
   "outputs": [],
   "source": [
    "default_kingdom = [Chapel, Moat, Village, Militia, Moneylender, Smithy, CouncilRoom, Laboratory, Market, Witch]"
   ]
  },
  {
   "cell_type": "code",
   "execution_count": 4,
   "metadata": {},
   "outputs": [],
   "source": [
    "project_root = '/home/justiny/Documents/Projects/PyDominion'\n",
    "model_dir = os.path.join(project_root, 'models')"
   ]
  },
  {
   "cell_type": "code",
   "execution_count": 5,
   "metadata": {},
   "outputs": [],
   "source": [
    "logger = logging.getLogger()\n",
    "logger.setLevel(logging.ERROR)\n",
    "# logger.setLevel(BUY)"
   ]
  },
  {
   "source": [
    "## MLP Simulations ##"
   ],
   "cell_type": "markdown",
   "metadata": {}
  },
  {
   "cell_type": "code",
   "execution_count": 4,
   "metadata": {},
   "outputs": [],
   "source": [
    "model_name = 'r-r-mcts-10k-score'\n",
    "model_path = os.path.join(model_dir, model_name)\n",
    "model = torch.load(model_path, map_location='cpu')\n",
    "model"
   ]
  },
  {
   "cell_type": "code",
   "execution_count": 114,
   "metadata": {},
   "outputs": [],
   "source": [
    "config = GameConfig(split=StartingSplit.StartingRandomSplit, sandbox=True, num_players=2)\n",
    "players = load_players(['MLP', 'BM'], [model_path], map_location='cpu', train=False)\n",
    "agent = players[0]\n",
    "env = DefaultEnvironment(config, players, logger=logger)"
   ]
  },
  {
   "cell_type": "code",
   "execution_count": 117,
   "metadata": {},
   "outputs": [
    {
     "output_type": "stream",
     "name": "stderr",
     "text": [
      "  0%|          | 0/1 [00:00<?, ?it/s]BUY:root:Player 0, Turn 0: Estate\n",
      "BUY:root:Player 1, Turn 1: Silver\n",
      "BUY:root:Player 0, Turn 1: Estate\n",
      "BUY:root:Player 1, Turn 2: Silver\n",
      "BUY:root:Player 0, Turn 2: Estate\n",
      "BUY:root:Player 1, Turn 3: Gold\n",
      "BUY:root:Player 0, Turn 3: Estate\n",
      "BUY:root:Player 1, Turn 4: Silver\n",
      "BUY:root:Player 0, Turn 4: Estate\n",
      "BUY:root:Player 1, Turn 5: Silver\n",
      "BUY:root:Player 0, Turn 5: None\n",
      "BUY:root:Player 1, Turn 6: Gold\n",
      "BUY:root:Player 0, Turn 6: Estate\n",
      "BUY:root:Player 1, Turn 7: Gold\n",
      "BUY:root:Player 0, Turn 7: Copper\n",
      "BUY:root:Player 1, Turn 8: Gold\n",
      "BUY:root:Player 0, Turn 8: Estate\n",
      "BUY:root:Player 1, Turn 9: Silver\n",
      "BUY:root:Player 0, Turn 9: Estate\n",
      "BUY:root:Player 1, Turn 10: Silver\n",
      "BUY:root:Player 0, Turn 10: Copper\n",
      "BUY:root:Player 1, Turn 11: Province\n",
      "BUY:root:Player 0, Turn 11: Copper\n",
      "BUY:root:Player 1, Turn 12: Gold\n",
      "BUY:root:Player 0, Turn 12: Silver\n",
      "BUY:root:Player 1, Turn 13: Province\n",
      "BUY:root:Player 0, Turn 13: Copper\n",
      "BUY:root:Player 1, Turn 14: Gold\n",
      "BUY:root:Player 0, Turn 14: Copper\n",
      "BUY:root:Player 1, Turn 15: Gold\n",
      "BUY:root:Player 0, Turn 15: Silver\n",
      "BUY:root:Player 1, Turn 16: Province\n",
      "BUY:root:Player 0, Turn 16: Silver\n",
      "BUY:root:Player 1, Turn 17: Province\n",
      "BUY:root:Player 0, Turn 17: Copper\n",
      "BUY:root:Player 1, Turn 18: Province\n",
      "BUY:root:Player 0, Turn 18: Silver\n",
      "BUY:root:Player 1, Turn 19: Province\n",
      "BUY:root:Player 0, Turn 19: Copper\n",
      "BUY:root:Player 1, Turn 20: Gold\n",
      "BUY:root:Player 0, Turn 20: Copper\n",
      "BUY:root:Player 1, Turn 21: Province\n",
      "BUY:root:Player 0, Turn 21: Copper\n",
      "BUY:root:Player 1, Turn 22: Gold\n",
      "BUY:root:Player 0, Turn 22: Copper\n",
      "BUY:root:Player 1, Turn 23: Province\n",
      "100%|██████████| 1/1 [00:00<00:00, 21.24it/s]===SUMMARY===\n",
      "{0: 0, 1: 1, 'ProvinceWins': 1, 'Ties': 0}\n",
      "\n"
     ]
    },
    {
     "output_type": "execute_result",
     "data": {
      "text/plain": [
       "<simulationdata.SimulationData at 0x7fb372a06970>"
      ]
     },
     "metadata": {},
     "execution_count": 117
    }
   ],
   "source": [
    "simulate(env, 1, None)"
   ]
  },
  {
   "source": [
    "Let's analyze the neural network outputs for some simple cases."
   ],
   "cell_type": "markdown",
   "metadata": {}
  },
  {
   "cell_type": "code",
   "execution_count": 20,
   "metadata": {},
   "outputs": [],
   "source": [
    "from state import ReducedStateFeature"
   ]
  },
  {
   "cell_type": "code",
   "execution_count": 21,
   "metadata": {},
   "outputs": [],
   "source": [
    "skip = ReducedStateFeature.default_sandbox_feature()\n",
    "copper = ReducedStateFeature.default_sandbox_feature()\n",
    "silver = ReducedStateFeature.default_sandbox_feature()\n",
    "estate = ReducedStateFeature.default_sandbox_feature()"
   ]
  },
  {
   "cell_type": "code",
   "execution_count": 22,
   "metadata": {},
   "outputs": [
    {
     "output_type": "execute_result",
     "data": {
      "text/plain": [
       "tensor([45., 10.,  8.,  8.,  8., 40., 30.,  8.,  0.,  3.,  0.,  0.,  0.,  0.,\n",
       "         7.,  0.,  3.,  0.,  0.,  0.,  0.])"
      ]
     },
     "metadata": {},
     "execution_count": 22
    }
   ],
   "source": [
    "copper[0] = 45\n",
    "copper[7] = 8\n",
    "copper"
   ]
  },
  {
   "cell_type": "code",
   "execution_count": 23,
   "metadata": {},
   "outputs": [
    {
     "output_type": "execute_result",
     "data": {
      "text/plain": [
       "tensor([46., 10.,  8.,  8.,  8., 39., 30.,  7.,  0.,  3.,  0.,  0.,  1.,  0.,\n",
       "         7.,  0.,  3.,  0.,  0.,  0.,  0.])"
      ]
     },
     "metadata": {},
     "execution_count": 23
    }
   ],
   "source": [
    "silver[5] = 39\n",
    "silver[7+5] = 1\n",
    "silver"
   ]
  },
  {
   "cell_type": "code",
   "execution_count": 24,
   "metadata": {},
   "outputs": [
    {
     "output_type": "execute_result",
     "data": {
      "text/plain": [
       "tensor([46., 10.,  7.,  8.,  8., 40., 30.,  7.,  0.,  4.,  0.,  0.,  0.,  0.,\n",
       "         7.,  0.,  3.,  0.,  0.,  0.,  0.])"
      ]
     },
     "metadata": {},
     "execution_count": 24
    }
   ],
   "source": [
    "estate[2] = 7\n",
    "estate[7+2] = 4\n",
    "estate"
   ]
  },
  {
   "cell_type": "code",
   "execution_count": 54,
   "metadata": {},
   "outputs": [
    {
     "output_type": "error",
     "ename": "TypeError",
     "evalue": "'LogisticRegression' object is not callable",
     "traceback": [
      "\u001b[0;31m---------------------------------------------------------------------------\u001b[0m",
      "\u001b[0;31mTypeError\u001b[0m                                 Traceback (most recent call last)",
      "\u001b[0;32m<ipython-input-54-0665552ed039>\u001b[0m in \u001b[0;36m<module>\u001b[0;34m\u001b[0m\n\u001b[0;32m----> 1\u001b[0;31m \u001b[0magent\u001b[0m\u001b[0;34m.\u001b[0m\u001b[0mmodel\u001b[0m\u001b[0;34m(\u001b[0m\u001b[0mcopper\u001b[0m\u001b[0;34m)\u001b[0m\u001b[0;34m,\u001b[0m \u001b[0magent\u001b[0m\u001b[0;34m.\u001b[0m\u001b[0mmodel\u001b[0m\u001b[0;34m(\u001b[0m\u001b[0msilver\u001b[0m\u001b[0;34m)\u001b[0m\u001b[0;34m,\u001b[0m \u001b[0magent\u001b[0m\u001b[0;34m.\u001b[0m\u001b[0mmodel\u001b[0m\u001b[0;34m(\u001b[0m\u001b[0mestate\u001b[0m\u001b[0;34m)\u001b[0m\u001b[0;34m\u001b[0m\u001b[0;34m\u001b[0m\u001b[0m\n\u001b[0m",
      "\u001b[0;31mTypeError\u001b[0m: 'LogisticRegression' object is not callable"
     ]
    }
   ],
   "source": [
    "agent.model(copper), agent.model(silver), agent.model(estate)"
   ]
  },
  {
   "source": [
    "## Tree Simulations ##"
   ],
   "cell_type": "markdown",
   "metadata": {}
  },
  {
   "cell_type": "code",
   "execution_count": 6,
   "metadata": {},
   "outputs": [],
   "source": [
    "from mcts import GameTree"
   ]
  },
  {
   "cell_type": "code",
   "execution_count": 22,
   "metadata": {},
   "outputs": [],
   "source": [
    "tree_name = 'default-r-r-mcts'\n",
    "tree_path = os.path.join(model_dir, tree_name)\n",
    "rollout_name = 'default-mlog'\n",
    "rollout_path = os.path.join(model_dir, rollout_name)"
   ]
  },
  {
   "cell_type": "code",
   "execution_count": 7,
   "metadata": {},
   "outputs": [],
   "source": [
    "tree_name = 'r-dw-mcts-bm-100k-wl-base-default-ucb1'\n",
    "rollout_name = 'mlog-10k-base-default-bm'\n",
    "tree_path = os.path.join(model_dir, tree_name)\n",
    "rollout_path = os.path.join(model_dir, rollout_name)"
   ]
  },
  {
   "cell_type": "code",
   "execution_count": 8,
   "metadata": {},
   "outputs": [],
   "source": [
    "tree = GameTree.load(tree_path, train=False)"
   ]
  },
  {
   "cell_type": "code",
   "execution_count": 121,
   "metadata": {},
   "outputs": [
    {
     "output_type": "execute_result",
     "data": {
      "text/plain": [
       "Parent: Militia << (n: 1877, v: 1269.0, Q: 0.676 c: Witch) >> Children: [(0, 'Copper', '141', '0.177'), (1, 'Estate', '80', '0.025'), (2, 'Silver', '310', '0.329'), (3, 'Chapel', '503', '0.397'), (4, 'Moat', '538', '0.404'), (5, 'Village', '143', '0.199'), (6, 'None', '161', '0.208')]"
      ]
     },
     "metadata": {},
     "execution_count": 121
    }
   ],
   "source": [
    "tree._root.children[2].children[6].children[14]"
   ]
  },
  {
   "cell_type": "code",
   "execution_count": 9,
   "metadata": {},
   "outputs": [],
   "source": [
    "# config = GameConfig(splits=[StartingSplit.Starting25Split, StartingSplit.Starting25Split], sandbox=True, num_players=2)\n",
    "# splits = [StartingSplit.Starting25Split, StartingSplit.Starting25Split]\n",
    "splits = [StartingSplit.StartingRandomSplit, StartingSplit.StartingRandomSplit]\n",
    "config = GameConfig(splits=splits, sandbox=False, num_players=2, must_include=default_kingdom)\n",
    "players = load_players(['UCT', 'DW'], [rollout_path], tree=tree, train=False, rollout_type='mlog', use_tree=True)\n",
    "# agent = load_players(['UCT'], [rollout_path], tree=tree, train=False, rollout_type='mlog', use_tree=False)[0]\n",
    "# players = [agent, agent]\n",
    "env = DefaultEnvironment(config, players, logger=logger)"
   ]
  },
  {
   "cell_type": "code",
   "execution_count": 12,
   "metadata": {},
   "outputs": [],
   "source": [
    "# logger.setLevel(logging.ERROR)\n",
    "logger.setLevel(BUY)"
   ]
  },
  {
   "cell_type": "code",
   "execution_count": 13,
   "metadata": {
    "tags": []
   },
   "outputs": [
    {
     "output_type": "stream",
     "name": "stderr",
     "text": [
      "  0%|          | 0/1 [00:00<?, ?it/s]BUY:Selection\n",
      "BUY:Player 0, Turn 0: Witch\n",
      "BUY:Player 1, Turn 0: Silver\n",
      "BUY:Selection\n",
      "BUY:Player 0, Turn 1: Chapel\n",
      "BUY:Player 1, Turn 1: Silver\n",
      "BUY:Selection\n",
      "BUY:Player 0, Turn 2: Copper\n",
      "BUY:Player 1, Turn 2: Witch\n",
      "BUY:Selection\n",
      "BUY:Player 0, Turn 3: Estate\n",
      "BUY:Player 1, Turn 3: Witch\n",
      "BUY:Selection\n",
      "BUY:Player 0, Turn 4: Copper\n",
      "BUY:Player 1, Turn 4: None\n",
      "BUY:Rollout\n",
      "BUY:Player 0, Turn 5: Silver\n",
      "BUY:Player 1, Turn 5: Gold\n",
      "BUY:Rollout\n",
      "BUY:Player 0, Turn 6: Gold\n",
      "BUY:Player 1, Turn 6: Silver\n",
      "BUY:Rollout\n",
      "BUY:Player 0, Turn 7: Silver\n",
      "BUY:Player 1, Turn 7: Silver\n",
      "BUY:Rollout\n",
      "BUY:Player 0, Turn 8: Gold\n",
      "BUY:Player 1, Turn 8: Silver\n",
      "BUY:Rollout\n",
      "BUY:Player 0, Turn 9: Silver\n",
      "BUY:Player 1, Turn 9: Gold\n",
      "BUY:Rollout\n",
      "BUY:Player 0, Turn 10: Silver\n",
      "BUY:Player 1, Turn 10: Silver\n",
      "BUY:Rollout\n",
      "BUY:Player 0, Turn 11: Silver\n",
      "BUY:Player 1, Turn 11: Silver\n",
      "BUY:Rollout\n",
      "BUY:Player 0, Turn 12: Gold\n",
      "BUY:Player 1, Turn 12: Silver\n",
      "BUY:Rollout\n",
      "BUY:Player 0, Turn 13: Silver\n",
      "BUY:Player 1, Turn 13: Gold\n",
      "BUY:Rollout\n",
      "BUY:Player 0, Turn 14: Gold\n",
      "BUY:Player 1, Turn 14: Gold\n",
      "BUY:Rollout\n",
      "BUY:Player 0, Turn 15: Gold\n",
      "BUY:Player 1, Turn 15: Gold\n",
      "BUY:Rollout\n",
      "BUY:Player 0, Turn 16: Gold\n",
      "BUY:Player 1, Turn 16: Gold\n",
      "BUY:Rollout\n",
      "BUY:Player 0, Turn 17: Province\n",
      "BUY:Player 1, Turn 17: Province\n",
      "BUY:Rollout\n",
      "BUY:Player 0, Turn 18: Province\n",
      "BUY:Player 1, Turn 18: Silver\n",
      "BUY:Rollout\n",
      "BUY:Player 0, Turn 19: Gold\n",
      "BUY:Player 1, Turn 19: Silver\n",
      "BUY:Rollout\n",
      "BUY:Player 0, Turn 20: Silver\n",
      "BUY:Player 1, Turn 20: Gold\n",
      "BUY:Rollout\n",
      "BUY:Player 0, Turn 21: Province\n",
      "BUY:Player 1, Turn 21: Province\n",
      "BUY:Rollout\n",
      "BUY:Player 0, Turn 22: Province\n",
      "BUY:Player 1, Turn 22: Gold\n",
      "BUY:Rollout\n",
      "BUY:Player 0, Turn 23: Province\n",
      "BUY:Player 1, Turn 23: Gold\n",
      "BUY:Rollout\n",
      "BUY:Player 0, Turn 24: Duchy\n",
      "BUY:Player 1, Turn 24: Province\n",
      "100%|██████████| 1/1 [00:00<00:00, 14.37it/s]===SUMMARY===\n",
      "{0: 1, 1: 0, 'ProvinceWins': 1, 'Ties': 0}\n",
      "\n"
     ]
    }
   ],
   "source": [
    "sim_data = simulate(env, 1, tree)"
   ]
  },
  {
   "cell_type": "code",
   "execution_count": 12,
   "metadata": {},
   "outputs": [
    {
     "output_type": "execute_result",
     "data": {
      "text/plain": [
       "   MaxScore  ProvinceWin  TimeElapsed    Tie\n",
       "0      40.0         True      0.06635  False"
      ],
      "text/html": "<div>\n<style scoped>\n    .dataframe tbody tr th:only-of-type {\n        vertical-align: middle;\n    }\n\n    .dataframe tbody tr th {\n        vertical-align: top;\n    }\n\n    .dataframe thead th {\n        text-align: right;\n    }\n</style>\n<table border=\"1\" class=\"dataframe\">\n  <thead>\n    <tr style=\"text-align: right;\">\n      <th></th>\n      <th>MaxScore</th>\n      <th>ProvinceWin</th>\n      <th>TimeElapsed</th>\n      <th>Tie</th>\n    </tr>\n  </thead>\n  <tbody>\n    <tr>\n      <th>0</th>\n      <td>40.0</td>\n      <td>True</td>\n      <td>0.06635</td>\n      <td>False</td>\n    </tr>\n  </tbody>\n</table>\n</div>"
     },
     "metadata": {},
     "execution_count": 12
    }
   ],
   "source": [
    "sim_data.game_df"
   ]
  },
  {
   "cell_type": "code",
   "execution_count": 97,
   "metadata": {},
   "outputs": [],
   "source": [
    "data_dir = os.path.join(project_root, 'data')\n",
    "data_name ='bm25-bm25-10k-scores'\n",
    "data_path = os.path.join(data_dir, data_name)"
   ]
  },
  {
   "cell_type": "code",
   "execution_count": 98,
   "metadata": {},
   "outputs": [],
   "source": [
    "save(data_path, sim_data.player_df)"
   ]
  }
 ]
}