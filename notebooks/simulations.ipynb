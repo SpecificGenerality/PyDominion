{
 "metadata": {
  "language_info": {
   "codemirror_mode": {
    "name": "ipython",
    "version": 3
   },
   "file_extension": ".py",
   "mimetype": "text/x-python",
   "name": "python",
   "nbconvert_exporter": "python",
   "pygments_lexer": "ipython3",
   "version": "3.8.5-final"
  },
  "orig_nbformat": 2,
  "kernelspec": {
   "name": "python3",
   "display_name": "Python 3",
   "language": "python"
  }
 },
 "nbformat": 4,
 "nbformat_minor": 2,
 "cells": [
  {
   "cell_type": "code",
   "execution_count": 1,
   "metadata": {},
   "outputs": [],
   "source": [
    "%load_ext autoreload\n",
    "%autoreload 2"
   ]
  },
  {
   "cell_type": "code",
   "execution_count": 2,
   "metadata": {},
   "outputs": [],
   "source": [
    "import os\n",
    "import logging\n",
    "\n",
    "from actioncard import Chapel, Moat, Village, Militia, Moneylender, Smithy, CouncilRoom, Laboratory, Market, Witch\n",
    "from aiutils import load, save\n",
    "from config import GameConfig\n",
    "from constants import ACTION, BUY\n",
    "from enums import StartingSplit\n",
    "from env import DefaultEnvironment, FullEnvironment\n",
    "from player import load_players\n",
    "from simulations import simulate"
   ]
  },
  {
   "cell_type": "code",
   "execution_count": 3,
   "metadata": {},
   "outputs": [],
   "source": [
    "default_kingdom = [Chapel, Moat, Village, Militia, Moneylender, Smithy, CouncilRoom, Laboratory, Market, Witch]"
   ]
  },
  {
   "cell_type": "code",
   "execution_count": 4,
   "metadata": {},
   "outputs": [],
   "source": [
    "project_root = '/home/justiny/Documents/Projects/PyDominion'\n",
    "# project_root = '/home/justiny/Princeton/PyDominion'\n",
    "model_dir = os.path.join(project_root, 'models')"
   ]
  },
  {
   "cell_type": "code",
   "execution_count": 5,
   "metadata": {},
   "outputs": [],
   "source": [
    "logger = logging.getLogger()\n",
    "logger.setLevel(logging.ERROR)\n",
    "# logger.setLevel(BUY)\n",
    "# logger.setLevel(ACTION)"
   ]
  },
  {
   "source": [
    "## Rule-Based Bots ##"
   ],
   "cell_type": "markdown",
   "metadata": {}
  },
  {
   "cell_type": "code",
   "execution_count": 90,
   "metadata": {},
   "outputs": [],
   "source": [
    "config = GameConfig(splits=[StartingSplit.StartingRandomSplit, StartingSplit.StartingRandomSplit], sandbox=True, num_players=2, must_include=[])\n",
    "players = load_players(['BM', 'BM'], None, map_location='cpu', train=False)\n",
    "agent = players[0]\n",
    "env = FullEnvironment(config, players, logger=logger)"
   ]
  },
  {
   "cell_type": "code",
   "execution_count": 91,
   "metadata": {},
   "outputs": [],
   "source": [
    "n = 10000"
   ]
  },
  {
   "cell_type": "code",
   "execution_count": 92,
   "metadata": {},
   "outputs": [
    {
     "output_type": "stream",
     "name": "stderr",
     "text": [
      "100%|██████████| 10000/10000 [03:08<00:00, 53.01it/s]\n",
      "===SUMMARY===\n",
      "{0: 5716, 1: 5574, 'ProvinceWins': 10000, 'Ties': 1290}\n"
     ]
    }
   ],
   "source": [
    "sim_stats = simulate(env, n, None, turn_log=True, action_log=True)"
   ]
  },
  {
   "cell_type": "code",
   "execution_count": 95,
   "metadata": {},
   "outputs": [],
   "source": [
    "data_path = os.path.join(project_root, 'data', 'bm-bm-10k-stats')"
   ]
  },
  {
   "cell_type": "code",
   "execution_count": 96,
   "metadata": {},
   "outputs": [],
   "source": [
    "save(data_path, sim_stats)"
   ]
  },
  {
   "source": [
    "## Tree Simulations ##"
   ],
   "cell_type": "markdown",
   "metadata": {}
  },
  {
   "cell_type": "code",
   "execution_count": 6,
   "metadata": {},
   "outputs": [],
   "source": [
    "from mcts import GameTree"
   ]
  },
  {
   "cell_type": "code",
   "execution_count": 7,
   "metadata": {},
   "outputs": [],
   "source": [
    "tree_name = 'full-tree-paper-30k-boost'\n",
    "tree_path = os.path.join(model_dir, tree_name)\n",
    "rollout_name = 'default-mlog-full-paper'\n",
    "rollout_path = os.path.join(model_dir, rollout_name)"
   ]
  },
  {
   "cell_type": "code",
   "execution_count": 9,
   "metadata": {},
   "outputs": [],
   "source": [
    "tree_name = 'r-r-mcts-bm-warm-start-10k-srat-sandbox-ucb1'\n",
    "rollout_name = 'default-sandbox-mlog-10k-v2'\n",
    "tree_path = os.path.join(model_dir, tree_name)\n",
    "rollout_path = os.path.join(model_dir, rollout_name)"
   ]
  },
  {
   "cell_type": "code",
   "execution_count": 8,
   "metadata": {},
   "outputs": [],
   "source": [
    "tree = GameTree.load(tree_path, train=False, _skip_level=False, selection='max')"
   ]
  },
  {
   "cell_type": "code",
   "execution_count": 72,
   "metadata": {},
   "outputs": [
    {
     "output_type": "execute_result",
     "data": {
      "text/plain": [
       "'max'"
      ]
     },
     "metadata": {},
     "execution_count": 72
    }
   ],
   "source": [
    "tree.selection = 'max'\n",
    "tree.selection"
   ]
  },
  {
   "cell_type": "code",
   "execution_count": 13,
   "metadata": {},
   "outputs": [],
   "source": [
    "tree.skip_level = True"
   ]
  },
  {
   "cell_type": "code",
   "execution_count": 42,
   "metadata": {},
   "outputs": [],
   "source": [
    "# config = GameConfig(splits=[StartingSplit.Starting25Split, StartingSplit.Starting25Split], sandbox=True, num_players=2)\n",
    "splits = [StartingSplit.Starting34Split, StartingSplit.Starting34Split]\n",
    "# splits = [StartingSplit.Starting25Split, StartingSplit.Starting25Split]\n",
    "# config = GameConfig(splits=splits, sandbox=True, num_players=2, must_include=[])\n",
    "config = GameConfig(splits=splits, sandbox=False, must_include=default_kingdom)\n",
    "players = load_players(['DW', 'UCT'], [rollout_path], tree=tree, rollout_type='mlog', use_tree=True)\n",
    "# agent = load_players(['UCT'], [rollout_path], tree=tree, train=False, rollout_type='mlog', use_tree=True)[0]\n",
    "# players = [agent, agent]\n",
    "\n",
    "env = DefaultEnvironment(config, players, logger=logger)"
   ]
  },
  {
   "cell_type": "code",
   "execution_count": 10,
   "metadata": {},
   "outputs": [],
   "source": [
    "logger.setLevel(logging.ERROR)"
   ]
  },
  {
   "cell_type": "code",
   "execution_count": 43,
   "metadata": {
    "tags": []
   },
   "outputs": [
    {
     "output_type": "stream",
     "name": "stderr",
     "text": [
      "100%|██████████| 1000/1000 [00:49<00:00, 20.06it/s]\n",
      "===SUMMARY===\n",
      "{0: 657, 1: 355, 'ProvinceWins': 992, 'Ties': 12}\n"
     ]
    }
   ],
   "source": [
    "sim_data = simulate(env, 1000, tree, turn_log=True, action_log=False, card_log=True)"
   ]
  },
  {
   "cell_type": "code",
   "execution_count": 34,
   "metadata": {},
   "outputs": [],
   "source": [
    "logger.setLevel(BUY)"
   ]
  },
  {
   "cell_type": "code",
   "execution_count": 43,
   "metadata": {},
   "outputs": [
    {
     "output_type": "stream",
     "name": "stderr",
     "text": [
      "  0%|          | 0/1 [00:00<?, ?it/s]BUY:Player 0, Turn: 0: None\n",
      "BUY:Selection: 2412\n",
      "BUY:Player 1, Turn: 0: Witch\n",
      "BUY:Player 0, Turn: 1: Witch\n",
      "BUY:Selection: 22\n",
      "BUY:Player 1, Turn: 1: Moat\n",
      "BUY:Player 0, Turn: 2: Silver\n",
      "BUY:Player 1, Turn: 2: Silver\n",
      "BUY:Player 0, Turn: 3: Witch\n",
      "BUY:Rollout\n",
      "BUY:Player 1, Turn: 3: Silver\n",
      "BUY:Player 0, Turn: 4: Silver\n",
      "BUY:Rollout\n",
      "BUY:Player 1, Turn: 4: Silver\n",
      "BUY:Player 0, Turn: 5: Silver\n",
      "BUY:Rollout\n",
      "BUY:Player 1, Turn: 5: Gold\n",
      "BUY:Player 0, Turn: 6: Silver\n",
      "BUY:Rollout\n",
      "BUY:Player 1, Turn: 6: None\n",
      "BUY:Player 0, Turn: 7: Silver\n",
      "BUY:Rollout\n",
      "BUY:Player 1, Turn: 7: Silver\n",
      "BUY:Player 0, Turn: 8: Silver\n",
      "BUY:Rollout\n",
      "BUY:Player 1, Turn: 8: Province\n",
      "BUY:Player 0, Turn: 9: Gold\n",
      "BUY:Rollout\n",
      "BUY:Player 1, Turn: 9: Silver\n",
      "BUY:Player 0, Turn: 10: Silver\n",
      "BUY:Rollout\n",
      "BUY:Player 1, Turn: 10: Gold\n",
      "BUY:Player 0, Turn: 11: Gold\n",
      "BUY:Rollout\n",
      "BUY:Player 1, Turn: 11: Gold\n",
      "BUY:Player 0, Turn: 12: Silver\n",
      "BUY:Rollout\n",
      "BUY:Player 1, Turn: 12: Silver\n",
      "BUY:Player 0, Turn: 13: Province\n",
      "BUY:Rollout\n",
      "BUY:Player 1, Turn: 13: Silver\n",
      "BUY:Player 0, Turn: 14: Gold\n",
      "BUY:Rollout\n",
      "BUY:Player 1, Turn: 14: Province\n",
      "BUY:Player 0, Turn: 15: Province\n",
      "BUY:Rollout\n",
      "BUY:Player 1, Turn: 15: Duchy\n",
      "BUY:Player 0, Turn: 16: None\n",
      "BUY:Rollout\n",
      "BUY:Player 1, Turn: 16: Province\n",
      "BUY:Player 0, Turn: 17: Duchy\n",
      "BUY:Rollout\n",
      "BUY:Player 1, Turn: 17: Duchy\n",
      "BUY:Player 0, Turn: 18: Duchy\n",
      "BUY:Rollout\n",
      "BUY:Player 1, Turn: 18: Duchy\n",
      "BUY:Player 0, Turn: 19: Gold\n",
      "BUY:Rollout\n",
      "BUY:Player 1, Turn: 19: Duchy\n",
      "BUY:Player 0, Turn: 20: Gold\n",
      "BUY:Rollout\n",
      "BUY:Player 1, Turn: 20: Province\n",
      "BUY:Player 0, Turn: 21: Gold\n",
      "BUY:Rollout\n",
      "BUY:Player 1, Turn: 21: Estate\n",
      "BUY:Player 0, Turn: 22: Gold\n",
      "BUY:Rollout\n",
      "BUY:Player 1, Turn: 22: Estate\n",
      "BUY:Player 0, Turn: 23: Silver\n",
      "BUY:Rollout\n",
      "BUY:Player 1, Turn: 23: Duchy\n",
      "BUY:Player 0, Turn: 24: Duchy\n",
      "BUY:Rollout\n",
      "BUY:Player 1, Turn: 24: Gold\n",
      "BUY:Player 0, Turn: 25: Gold\n",
      "BUY:Rollout\n",
      "BUY:Player 1, Turn: 25: Gold\n",
      "BUY:Player 0, Turn: 26: Province\n",
      "BUY:Rollout\n",
      "BUY:Player 1, Turn: 26: Estate\n",
      "BUY:Player 0, Turn: 27: Silver\n",
      "BUY:Rollout\n",
      "BUY:Player 1, Turn: 27: Estate\n",
      "BUY:Player 0, Turn: 28: Province\n",
      "100%|██████████| 1/1 [00:00<00:00, 11.41it/s]===SUMMARY===\n",
      "{0: 0, 1: 1, 'ProvinceWins': 1, 'Ties': 0}\n",
      "\n"
     ]
    }
   ],
   "source": [
    "sim_data = simulate(env, 1, tree, turn_log=False, action_log=False)"
   ]
  },
  {
   "cell_type": "code",
   "execution_count": 45,
   "metadata": {},
   "outputs": [],
   "source": [
    "data_dir = os.path.join(project_root, 'data')\n",
    "data_name ='dw34-uct34-1k-data'\n",
    "data_path = os.path.join(data_dir, data_name)"
   ]
  },
  {
   "cell_type": "code",
   "execution_count": 46,
   "metadata": {},
   "outputs": [],
   "source": [
    "save(data_path, sim_data)"
   ]
  }
 ]
}