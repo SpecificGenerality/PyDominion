{
 "cells": [
  {
   "cell_type": "code",
   "execution_count": 1,
   "metadata": {},
   "outputs": [],
   "source": [
    "%load_ext autoreload\n",
    "%autoreload 2"
   ]
  },
  {
   "cell_type": "code",
   "execution_count": 2,
   "metadata": {},
   "outputs": [],
   "source": [
    "import os\n",
    "import logging\n",
    "\n",
    "from actioncard import Chapel, Moat, Village, Militia, Moneylender, Smithy, CouncilRoom, Laboratory, Market, Witch\n",
    "from aiutils import load, save\n",
    "from config import GameConfig\n",
    "from constants import ACTION, BUY\n",
    "from enums import StartingSplit\n",
    "from env import DefaultEnvironment, FullEnvironment\n",
    "from player import load_players\n",
    "from simulations import simulate"
   ]
  },
  {
   "cell_type": "code",
   "execution_count": 3,
   "metadata": {},
   "outputs": [],
   "source": [
    "default_kingdom = [Chapel, Moat, Village, Militia, Moneylender, Smithy, CouncilRoom, Laboratory, Market, Witch]"
   ]
  },
  {
   "cell_type": "code",
   "execution_count": 4,
   "metadata": {},
   "outputs": [],
   "source": [
    "project_root = '/home/justiny/Documents/Projects/PyDominion'\n",
    "# project_root = '/home/justiny/Princeton/PyDominion'\n",
    "model_dir = os.path.join(project_root, 'models')"
   ]
  },
  {
   "cell_type": "code",
   "execution_count": 5,
   "metadata": {},
   "outputs": [],
   "source": [
    "logger = logging.getLogger()\n",
    "logger.setLevel(logging.ERROR)\n",
    "# logger.setLevel(BUY)\n",
    "# logger.setLevel(ACTION)"
   ]
  },
  {
   "cell_type": "markdown",
   "metadata": {},
   "source": [
    "## Rule-Based Bots ##"
   ]
  },
  {
   "cell_type": "code",
   "execution_count": 28,
   "metadata": {},
   "outputs": [],
   "source": [
    "# config = GameConfig(splits=[StartingSplit.StartingRandomSplit, StartingSplit.StartingRandomSplit], sandbox=True, num_players=2, must_include=[])\n",
    "config = GameConfig(splits=[StartingSplit.Starting34Split, StartingSplit.Starting34Split], sandbox=False, num_players=2, must_include=default_kingdom)\n",
    "players = load_players(['DW', 'DW'], None, map_location='cpu', train=False)\n",
    "agent = players[0]\n",
    "# env = FullEnvironment(config, players, logger=logger)\n",
    "env = DefaultEnvironment(config, players)"
   ]
  },
  {
   "cell_type": "code",
   "execution_count": 24,
   "metadata": {},
   "outputs": [],
   "source": [
    "n = 10000"
   ]
  },
  {
   "cell_type": "code",
   "execution_count": 29,
   "metadata": {},
   "outputs": [
    {
     "output_type": "stream",
     "name": "stderr",
     "text": [
      "100%|██████████| 10000/10000 [06:07<00:00, 27.22it/s]\n",
      "===SUMMARY===\n",
      "{0: 5901, 1: 4495, 'ProvinceWins': 9996, 'Ties': 396}\n"
     ]
    }
   ],
   "source": [
    "sim_stats = simulate(env, n, [], turn_log=True, action_log=False, card_log=True)"
   ]
  },
  {
   "cell_type": "code",
   "execution_count": 30,
   "metadata": {},
   "outputs": [],
   "source": [
    "data_path = os.path.join(project_root, 'data', 'dw34-dw34-10k-stats')"
   ]
  },
  {
   "cell_type": "code",
   "execution_count": 31,
   "metadata": {},
   "outputs": [],
   "source": [
    "save(data_path, sim_stats)"
   ]
  },
  {
   "cell_type": "markdown",
   "metadata": {},
   "source": [
    "## Tree Simulations ##"
   ]
  },
  {
   "cell_type": "code",
   "execution_count": 6,
   "metadata": {},
   "outputs": [],
   "source": [
    "from mcts import GameTree\n",
    "\n",
    "import pandas as pd"
   ]
  },
  {
   "cell_type": "code",
   "execution_count": 35,
   "metadata": {},
   "outputs": [],
   "source": [
    "# tree_name = 'full-paper-tree-uniform'\n",
    "# tree_name = 'full-paper-tree-160k-trimmed-lowc'\n",
    "# tree_name = 'full-paper-tree-160k-trimmed-cdecay'\n",
    "tree_name = 'full-paper-dw-tree-160k-trimmed-cdecay'\n",
    "\n",
    "tree_path = os.path.join(model_dir, tree_name)\n",
    "rollout_name = 'default-mlog-full-paper'\n",
    "rollout_path = os.path.join(model_dir, rollout_name)"
   ]
  },
  {
   "cell_type": "code",
   "execution_count": 7,
   "metadata": {},
   "outputs": [],
   "source": [
    "tree_name = 'default-sandbox-uct-paper'\n",
    "# tree_name = 'r-r-mcts-bm-hot-start-sandbox-100k-srat-uniform'\n",
    "rollout_name = 'default-mlog-sandbox-paper'\n",
    "tree_path = os.path.join(model_dir, tree_name)\n",
    "rollout_path = os.path.join(model_dir, rollout_name)"
   ]
  },
  {
   "cell_type": "code",
   "execution_count": 8,
   "metadata": {},
   "outputs": [],
   "source": [
    "tree = GameTree.load(tree_path, train=False, _skip_level=False, selection='max')"
   ]
  },
  {
   "cell_type": "code",
   "execution_count": 67,
   "metadata": {},
   "outputs": [],
   "source": [
    "tree.skip_level = False"
   ]
  },
  {
   "cell_type": "code",
   "execution_count": 19,
   "metadata": {},
   "outputs": [],
   "source": [
    "splits = [StartingSplit.StartingRandomSplit, StartingSplit.StartingRandomSplit]\n",
    "config = GameConfig(splits=splits, sandbox=True, num_players=2, must_include=[])\n",
    "# config = GameConfig(splits=splits, sandbox=False, must_include=default_kingdom)\n",
    "players = load_players(['BM', 'UCT'], [rollout_path], tree=tree, rollout_type='mlog', train=False, use_tree=True)\n",
    "# agent = load_players(['UCT'], [rollout_path], tree=tree, train=True, rollout_type='mlog', use_tree=True)[0]\n",
    "# players = [agent, agent]\n",
    "\n",
    "env = DefaultEnvironment(config, players)"
   ]
  },
  {
   "cell_type": "code",
   "execution_count": 16,
   "metadata": {},
   "outputs": [],
   "source": [
    "logger.setLevel(logging.ERROR)\n",
    "# logger.setLevel(BUY)"
   ]
  },
  {
   "cell_type": "code",
   "execution_count": 20,
   "metadata": {
    "tags": []
   },
   "outputs": [
    {
     "output_type": "stream",
     "name": "stderr",
     "text": [
      "100%|██████████| 10000/10000 [03:28<00:00, 48.07it/s]\n",
      "===SUMMARY===\n",
      "{0: 4825, 1: 5443, 'ProvinceWins': 10000, 'Ties': 268}\n"
     ]
    }
   ],
   "source": [
    "sim_data = simulate(env, 10000, [tree], turn_log=True, action_log=False, card_log=True)\n",
    "# sim_data = simulate(env, 1, [tree], turn_log=True, action_log=False, card_log=False)"
   ]
  },
  {
   "cell_type": "code",
   "execution_count": 21,
   "metadata": {},
   "outputs": [],
   "source": [
    "data_dir = os.path.join(project_root, 'data')\n",
    "data_name = 'bm-uct-10k-data'\n",
    "data_path = os.path.join(data_dir, data_name)"
   ]
  },
  {
   "cell_type": "code",
   "execution_count": 22,
   "metadata": {},
   "outputs": [],
   "source": [
    "save(data_path, sim_data)"
   ]
  },
  {
   "source": [
    "## Tree vs. Tree Simulations ##"
   ],
   "cell_type": "markdown",
   "metadata": {}
  },
  {
   "cell_type": "code",
   "execution_count": 67,
   "metadata": {},
   "outputs": [],
   "source": [
    "uct_name = 'full-paper-tree-uniform'\n",
    "# uct_name = 'full-paper-tree-uniform-160k'\n",
    "suct_name = 'full-paper-tree-160k-trimmed-cdecay'\n",
    "uctdw_name = 'full-paper-dw-tree-160k-trimmed-cdecay'\n",
    "rollout_name = 'default-mlog-full-paper'\n",
    "rollout_path = os.path.join(model_dir, rollout_name)"
   ]
  },
  {
   "cell_type": "code",
   "execution_count": 40,
   "metadata": {},
   "outputs": [],
   "source": [
    "uct = GameTree.load(os.path.join(model_dir, uct_name), train=False, _skip_level=False, selection='max')"
   ]
  },
  {
   "cell_type": "code",
   "execution_count": 10,
   "metadata": {},
   "outputs": [],
   "source": [
    "uctslim = GameTree.load(os.path.join(model_dir, suct_name), train=False, _skip_level=False, selection='max')"
   ]
  },
  {
   "cell_type": "code",
   "execution_count": 68,
   "metadata": {},
   "outputs": [],
   "source": [
    "uctdw = GameTree.load(os.path.join(model_dir, uctdw_name), train=False, _skip_level=False, selection='max')"
   ]
  },
  {
   "cell_type": "code",
   "execution_count": 69,
   "metadata": {},
   "outputs": [],
   "source": [
    "uct_agent = load_players(['UCT'], [rollout_path], tree=uct, train=False, rollout_type='mlog', use_tree=True)[0]\n",
    "uctslim_agent = load_players(['UCT'], [rollout_path], tree=uctslim, train=True, rollout_type='mlog', use_tree=True)[0]\n",
    "uctdw_agent = load_players(['UCT'], [rollout_path], tree=uctdw, train=True, rollout_type='mlog', use_tree=True)[0]"
   ]
  },
  {
   "cell_type": "code",
   "execution_count": null,
   "metadata": {},
   "outputs": [],
   "source": [
    "dw_agent = load_players(['DW'], [])[0]"
   ]
  },
  {
   "cell_type": "code",
   "execution_count": 81,
   "metadata": {},
   "outputs": [],
   "source": [
    "splits = [StartingSplit.Starting34Split, StartingSplit.Starting34Split]\n",
    "config = GameConfig(splits=splits, sandbox=False, must_include=default_kingdom)\n",
    "players = [uctdw_agent, uctdw_agent]\n",
    "\n",
    "env = DefaultEnvironment(config, players)"
   ]
  },
  {
   "cell_type": "code",
   "execution_count": 109,
   "metadata": {},
   "outputs": [],
   "source": [
    "logger.setLevel(logging.ERROR)\n",
    "# logger.setLevel(BUY)"
   ]
  },
  {
   "cell_type": "code",
   "execution_count": 82,
   "metadata": {},
   "outputs": [
    {
     "output_type": "stream",
     "name": "stderr",
     "text": [
      "100%|██████████| 1000/1000 [00:25<00:00, 39.48it/s]===SUMMARY===\n",
      "{0: 978, 1: 23, 'ProvinceWins': 1000, 'Ties': 1}\n",
      "\n"
     ]
    }
   ],
   "source": [
    "sim_data = simulate(env, 1000, [uctdw], turn_log=False, action_log=False, card_log=False)"
   ]
  }
 ],
 "metadata": {
  "kernelspec": {
   "name": "python388jvsc74a57bd08e35030b590e9f8402bd0b3ea8a5924dfbbdf071e9d6eebc2a90ff2ccbebd449",
   "display_name": "Python 3.8.8 64-bit ('pydominion': conda)"
  },
  "language_info": {
   "codemirror_mode": {
    "name": "ipython",
    "version": 3
   },
   "file_extension": ".py",
   "mimetype": "text/x-python",
   "name": "python",
   "nbconvert_exporter": "python",
   "pygments_lexer": "ipython3",
   "version": "3.8.8-final"
  },
  "metadata": {
   "interpreter": {
    "hash": "8e35030b590e9f8402bd0b3ea8a5924dfbbdf071e9d6eebc2a90ff2ccbebd449"
   }
  }
 },
 "nbformat": 4,
 "nbformat_minor": 2
}