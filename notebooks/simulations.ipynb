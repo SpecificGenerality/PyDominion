{
 "metadata": {
  "language_info": {
   "codemirror_mode": {
    "name": "ipython",
    "version": 3
   },
   "file_extension": ".py",
   "mimetype": "text/x-python",
   "name": "python",
   "nbconvert_exporter": "python",
   "pygments_lexer": "ipython3",
   "version": "3.8.5-final"
  },
  "orig_nbformat": 2,
  "kernelspec": {
   "name": "python3",
   "display_name": "Python 3",
   "language": "python"
  }
 },
 "nbformat": 4,
 "nbformat_minor": 2,
 "cells": [
  {
   "cell_type": "code",
   "execution_count": 38,
   "metadata": {},
   "outputs": [],
   "source": [
    "from importlib import reload"
   ]
  },
  {
   "source": [
    "Load model"
   ],
   "cell_type": "markdown",
   "metadata": {}
  },
  {
   "cell_type": "code",
   "execution_count": 1,
   "metadata": {},
   "outputs": [],
   "source": [
    "from aiutils import load\n",
    "import os"
   ]
  },
  {
   "cell_type": "code",
   "execution_count": 2,
   "metadata": {},
   "outputs": [],
   "source": [
    "project_root = '/home/justiny/Documents/Projects/PyDominion'\n",
    "model_dir = os.path.join(project_root, 'models')"
   ]
  },
  {
   "cell_type": "code",
   "execution_count": 3,
   "metadata": {},
   "outputs": [],
   "source": [
    "model_name = 'bm-bm-mlp-pred-10k-30-1e-1'\n",
    "model_path = os.path.join(model_dir, model_name)"
   ]
  },
  {
   "cell_type": "code",
   "execution_count": 67,
   "metadata": {},
   "outputs": [],
   "source": [
    "import torch"
   ]
  },
  {
   "cell_type": "code",
   "execution_count": 19,
   "metadata": {},
   "outputs": [
    {
     "output_type": "execute_result",
     "data": {
      "text/plain": [
       "PredictorMLP(\n",
       "  (fc1): Linear(in_features=21, out_features=11, bias=True)\n",
       "  (fc2): Linear(in_features=11, out_features=1, bias=True)\n",
       "  (sigmoid): Sigmoid()\n",
       "  (relu): LeakyReLU(negative_slope=0.01)\n",
       ")"
      ]
     },
     "metadata": {},
     "execution_count": 19
    }
   ],
   "source": [
    "model = torch.load(model_path, map_location='cpu')\n",
    "model"
   ]
  },
  {
   "cell_type": "code",
   "execution_count": 76,
   "metadata": {},
   "outputs": [],
   "source": [
    "from config import GameConfig \n",
    "from constants import BUY\n",
    "from enums import StartingSplit\n",
    "from player import load_players\n",
    "from env import DefaultEnvironment\n",
    "from simulations import simulate\n",
    "import logging"
   ]
  },
  {
   "cell_type": "code",
   "execution_count": 60,
   "metadata": {},
   "outputs": [
    {
     "output_type": "stream",
     "name": "stdout",
     "text": [
      "The autoreload extension is already loaded. To reload it, use:\n  %reload_ext autoreload\n"
     ]
    }
   ],
   "source": [
    "%load_ext autoreload\n",
    "%autoreload 2"
   ]
  },
  {
   "cell_type": "code",
   "execution_count": 65,
   "metadata": {},
   "outputs": [],
   "source": [
    "from player import HeuristicPlayer, PredictorMLPPlayer\n",
    "from buyagenda import BigMoneyBuyAgenda"
   ]
  },
  {
   "cell_type": "code",
   "execution_count": 77,
   "metadata": {},
   "outputs": [],
   "source": [
    "logger = logging.getLogger()\n",
    "logger.setLevel(BUY)"
   ]
  },
  {
   "cell_type": "code",
   "execution_count": 79,
   "metadata": {},
   "outputs": [],
   "source": [
    "config = GameConfig(split=StartingSplit.StartingRandomSplit, sandbox=True, num_players=2)\n",
    "players = load_players(['MLP', 'BM'], [model_path], map_location='cpu')\n",
    "# players = [PredictorMLPPlayer(model=torch.load(model_path, # map_location='cpu'), train=False), HeuristicPlayer(BigMoneyBuyAgenda())]\n",
    "env = DefaultEnvironment(config, players, logger=logger)"
   ]
  },
  {
   "cell_type": "code",
   "execution_count": 80,
   "metadata": {},
   "outputs": [
    {
     "output_type": "stream",
     "name": "stderr",
     "text": [
      "  0%|          | 0/1 [00:00<?, ?it/s]BUY:Player 0, Turn 0: Estate\n",
      "BUY:Player 1, Turn 1: Silver\n",
      "BUY:Player 0, Turn 1: Estate\n",
      "BUY:Player 1, Turn 2: Silver\n",
      "BUY:Player 0, Turn 2: Copper\n",
      "BUY:Player 1, Turn 3: Silver\n",
      "BUY:Player 0, Turn 3: Copper\n",
      "BUY:Player 1, Turn 4: Silver\n",
      "BUY:Player 0, Turn 4: Copper\n",
      "BUY:Player 1, Turn 5: Silver\n",
      "BUY:Player 0, Turn 5: Copper\n",
      "BUY:Player 1, Turn 6: Silver\n",
      "BUY:Player 0, Turn 6: Copper\n",
      "BUY:Player 1, Turn 7: Silver\n",
      "BUY:Player 0, Turn 7: Copper\n",
      "BUY:Player 1, Turn 8: Silver\n",
      "BUY:Player 0, Turn 8: Copper\n",
      "BUY:Player 1, Turn 9: Gold\n",
      "BUY:Player 0, Turn 9: Copper\n",
      "BUY:Player 1, Turn 10: Silver\n",
      "BUY:Player 0, Turn 10: Copper\n",
      "BUY:Player 1, Turn 11: Province\n",
      "BUY:Player 0, Turn 11: Estate\n",
      "BUY:Player 1, Turn 12: Silver\n",
      "BUY:Player 0, Turn 12: Copper\n",
      "BUY:Player 1, Turn 13: Province\n",
      "BUY:Player 0, Turn 13: Estate\n",
      "BUY:Player 1, Turn 14: Silver\n",
      "BUY:Player 0, Turn 14: Copper\n",
      "BUY:Player 1, Turn 15: Gold\n",
      "BUY:Player 0, Turn 15: Copper\n",
      "BUY:Player 1, Turn 16: Gold\n",
      "BUY:Player 0, Turn 16: Copper\n",
      "BUY:Player 1, Turn 17: Province\n",
      "BUY:Player 0, Turn 17: Estate\n",
      "BUY:Player 1, Turn 18: Gold\n",
      "BUY:Player 0, Turn 18: Estate\n",
      "BUY:Player 1, Turn 19: Silver\n",
      "BUY:Player 0, Turn 19: Copper\n",
      "BUY:Player 1, Turn 20: Gold\n",
      "BUY:Player 0, Turn 20: Copper\n",
      "BUY:Player 1, Turn 21: Province\n",
      "BUY:Player 0, Turn 21: Estate\n",
      "BUY:Player 1, Turn 22: Province\n",
      "BUY:Player 0, Turn 22: Estate\n",
      "BUY:Player 1, Turn 23: Province\n",
      "BUY:Player 0, Turn 23: Copper\n",
      "BUY:Player 1, Turn 24: Province\n",
      "BUY:Player 0, Turn 24: Copper\n",
      "BUY:Player 1, Turn 25: Gold\n",
      "BUY:Player 0, Turn 25: Copper\n",
      "BUY:Player 1, Turn 26: Province\n",
      "100%|██████████| 1/1 [00:00<00:00, 17.98it/s]===SUMMARY===\n",
      "{0: 0, 1: 1, 'ProvinceWins': 1, 'Ties': 0}\n",
      "\n"
     ]
    },
    {
     "output_type": "execute_result",
     "data": {
      "text/plain": [
       "<simulationdata.SimulationData at 0x7feaf40446a0>"
      ]
     },
     "metadata": {},
     "execution_count": 80
    }
   ],
   "source": [
    "simulate(env, 1, None)"
   ]
  }
 ]
}