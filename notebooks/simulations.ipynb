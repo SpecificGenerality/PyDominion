{
 "metadata": {
  "language_info": {
   "codemirror_mode": {
    "name": "ipython",
    "version": 3
   },
   "file_extension": ".py",
   "mimetype": "text/x-python",
   "name": "python",
   "nbconvert_exporter": "python",
   "pygments_lexer": "ipython3",
   "version": "3.8.5-final"
  },
  "orig_nbformat": 2,
  "kernelspec": {
   "name": "python3",
   "display_name": "Python 3",
   "language": "python"
  }
 },
 "nbformat": 4,
 "nbformat_minor": 2,
 "cells": [
  {
   "cell_type": "code",
   "execution_count": 1,
   "metadata": {},
   "outputs": [],
   "source": [
    "%load_ext autoreload\n",
    "%autoreload 2"
   ]
  },
  {
   "cell_type": "code",
   "execution_count": 94,
   "metadata": {},
   "outputs": [],
   "source": [
    "import os\n",
    "import logging\n",
    "import torch\n",
    "\n",
    "from actioncard import Chapel, Moat, Village, Militia, Moneylender, Smithy, CouncilRoom, Laboratory, Market, Witch\n",
    "from aiutils import load, save\n",
    "from buyagenda import BigMoneyBuyAgenda\n",
    "from config import GameConfig \n",
    "from constants import BUY\n",
    "from enums import StartingSplit\n",
    "from env import DefaultEnvironment\n",
    "from player import HeuristicPlayer, load_players, PredictorMLPPlayer\n",
    "from simulations import simulate"
   ]
  },
  {
   "cell_type": "code",
   "execution_count": 5,
   "metadata": {},
   "outputs": [],
   "source": [
    "default_kingdom = [Chapel, Moat, Village, Militia, Moneylender, Smithy, CouncilRoom, Laboratory, Market, Witch]"
   ]
  },
  {
   "cell_type": "code",
   "execution_count": 3,
   "metadata": {},
   "outputs": [],
   "source": [
    "project_root = '/home/justiny/Documents/Projects/PyDominion'\n",
    "model_dir = os.path.join(project_root, 'models')"
   ]
  },
  {
   "cell_type": "code",
   "execution_count": 4,
   "metadata": {},
   "outputs": [],
   "source": [
    "logger = logging.getLogger()\n",
    "logger.setLevel(logging.ERROR)\n",
    "# logger.setLevel(BUY)"
   ]
  },
  {
   "source": [
    "## MLP Simulations ##"
   ],
   "cell_type": "markdown",
   "metadata": {}
  },
  {
   "cell_type": "code",
   "execution_count": 4,
   "metadata": {},
   "outputs": [],
   "source": [
    "model_name = 'r-r-mcts-10k-score'\n",
    "model_path = os.path.join(model_dir, model_name)\n",
    "model = torch.load(model_path, map_location='cpu')\n",
    "model"
   ]
  },
  {
   "cell_type": "code",
   "execution_count": 114,
   "metadata": {},
   "outputs": [],
   "source": [
    "config = GameConfig(split=StartingSplit.StartingRandomSplit, sandbox=True, num_players=2)\n",
    "players = load_players(['MLP', 'BM'], [model_path], map_location='cpu', train=False)\n",
    "agent = players[0]\n",
    "env = DefaultEnvironment(config, players, logger=logger)"
   ]
  },
  {
   "cell_type": "code",
   "execution_count": 117,
   "metadata": {},
   "outputs": [
    {
     "output_type": "stream",
     "name": "stderr",
     "text": [
      "  0%|          | 0/1 [00:00<?, ?it/s]BUY:root:Player 0, Turn 0: Estate\n",
      "BUY:root:Player 1, Turn 1: Silver\n",
      "BUY:root:Player 0, Turn 1: Estate\n",
      "BUY:root:Player 1, Turn 2: Silver\n",
      "BUY:root:Player 0, Turn 2: Estate\n",
      "BUY:root:Player 1, Turn 3: Gold\n",
      "BUY:root:Player 0, Turn 3: Estate\n",
      "BUY:root:Player 1, Turn 4: Silver\n",
      "BUY:root:Player 0, Turn 4: Estate\n",
      "BUY:root:Player 1, Turn 5: Silver\n",
      "BUY:root:Player 0, Turn 5: None\n",
      "BUY:root:Player 1, Turn 6: Gold\n",
      "BUY:root:Player 0, Turn 6: Estate\n",
      "BUY:root:Player 1, Turn 7: Gold\n",
      "BUY:root:Player 0, Turn 7: Copper\n",
      "BUY:root:Player 1, Turn 8: Gold\n",
      "BUY:root:Player 0, Turn 8: Estate\n",
      "BUY:root:Player 1, Turn 9: Silver\n",
      "BUY:root:Player 0, Turn 9: Estate\n",
      "BUY:root:Player 1, Turn 10: Silver\n",
      "BUY:root:Player 0, Turn 10: Copper\n",
      "BUY:root:Player 1, Turn 11: Province\n",
      "BUY:root:Player 0, Turn 11: Copper\n",
      "BUY:root:Player 1, Turn 12: Gold\n",
      "BUY:root:Player 0, Turn 12: Silver\n",
      "BUY:root:Player 1, Turn 13: Province\n",
      "BUY:root:Player 0, Turn 13: Copper\n",
      "BUY:root:Player 1, Turn 14: Gold\n",
      "BUY:root:Player 0, Turn 14: Copper\n",
      "BUY:root:Player 1, Turn 15: Gold\n",
      "BUY:root:Player 0, Turn 15: Silver\n",
      "BUY:root:Player 1, Turn 16: Province\n",
      "BUY:root:Player 0, Turn 16: Silver\n",
      "BUY:root:Player 1, Turn 17: Province\n",
      "BUY:root:Player 0, Turn 17: Copper\n",
      "BUY:root:Player 1, Turn 18: Province\n",
      "BUY:root:Player 0, Turn 18: Silver\n",
      "BUY:root:Player 1, Turn 19: Province\n",
      "BUY:root:Player 0, Turn 19: Copper\n",
      "BUY:root:Player 1, Turn 20: Gold\n",
      "BUY:root:Player 0, Turn 20: Copper\n",
      "BUY:root:Player 1, Turn 21: Province\n",
      "BUY:root:Player 0, Turn 21: Copper\n",
      "BUY:root:Player 1, Turn 22: Gold\n",
      "BUY:root:Player 0, Turn 22: Copper\n",
      "BUY:root:Player 1, Turn 23: Province\n",
      "100%|██████████| 1/1 [00:00<00:00, 21.24it/s]===SUMMARY===\n",
      "{0: 0, 1: 1, 'ProvinceWins': 1, 'Ties': 0}\n",
      "\n"
     ]
    },
    {
     "output_type": "execute_result",
     "data": {
      "text/plain": [
       "<simulationdata.SimulationData at 0x7fb372a06970>"
      ]
     },
     "metadata": {},
     "execution_count": 117
    }
   ],
   "source": [
    "simulate(env, 1, None)"
   ]
  },
  {
   "source": [
    "Let's analyze the neural network outputs for some simple cases."
   ],
   "cell_type": "markdown",
   "metadata": {}
  },
  {
   "cell_type": "code",
   "execution_count": 20,
   "metadata": {},
   "outputs": [],
   "source": [
    "from state import ReducedStateFeature"
   ]
  },
  {
   "cell_type": "code",
   "execution_count": 21,
   "metadata": {},
   "outputs": [],
   "source": [
    "skip = ReducedStateFeature.default_sandbox_feature()\n",
    "copper = ReducedStateFeature.default_sandbox_feature()\n",
    "silver = ReducedStateFeature.default_sandbox_feature()\n",
    "estate = ReducedStateFeature.default_sandbox_feature()"
   ]
  },
  {
   "cell_type": "code",
   "execution_count": 22,
   "metadata": {},
   "outputs": [
    {
     "output_type": "execute_result",
     "data": {
      "text/plain": [
       "tensor([45., 10.,  8.,  8.,  8., 40., 30.,  8.,  0.,  3.,  0.,  0.,  0.,  0.,\n",
       "         7.,  0.,  3.,  0.,  0.,  0.,  0.])"
      ]
     },
     "metadata": {},
     "execution_count": 22
    }
   ],
   "source": [
    "copper[0] = 45\n",
    "copper[7] = 8\n",
    "copper"
   ]
  },
  {
   "cell_type": "code",
   "execution_count": 23,
   "metadata": {},
   "outputs": [
    {
     "output_type": "execute_result",
     "data": {
      "text/plain": [
       "tensor([46., 10.,  8.,  8.,  8., 39., 30.,  7.,  0.,  3.,  0.,  0.,  1.,  0.,\n",
       "         7.,  0.,  3.,  0.,  0.,  0.,  0.])"
      ]
     },
     "metadata": {},
     "execution_count": 23
    }
   ],
   "source": [
    "silver[5] = 39\n",
    "silver[7+5] = 1\n",
    "silver"
   ]
  },
  {
   "cell_type": "code",
   "execution_count": 24,
   "metadata": {},
   "outputs": [
    {
     "output_type": "execute_result",
     "data": {
      "text/plain": [
       "tensor([46., 10.,  7.,  8.,  8., 40., 30.,  7.,  0.,  4.,  0.,  0.,  0.,  0.,\n",
       "         7.,  0.,  3.,  0.,  0.,  0.,  0.])"
      ]
     },
     "metadata": {},
     "execution_count": 24
    }
   ],
   "source": [
    "estate[2] = 7\n",
    "estate[7+2] = 4\n",
    "estate"
   ]
  },
  {
   "cell_type": "code",
   "execution_count": 54,
   "metadata": {},
   "outputs": [
    {
     "output_type": "error",
     "ename": "TypeError",
     "evalue": "'LogisticRegression' object is not callable",
     "traceback": [
      "\u001b[0;31m---------------------------------------------------------------------------\u001b[0m",
      "\u001b[0;31mTypeError\u001b[0m                                 Traceback (most recent call last)",
      "\u001b[0;32m<ipython-input-54-0665552ed039>\u001b[0m in \u001b[0;36m<module>\u001b[0;34m\u001b[0m\n\u001b[0;32m----> 1\u001b[0;31m \u001b[0magent\u001b[0m\u001b[0;34m.\u001b[0m\u001b[0mmodel\u001b[0m\u001b[0;34m(\u001b[0m\u001b[0mcopper\u001b[0m\u001b[0;34m)\u001b[0m\u001b[0;34m,\u001b[0m \u001b[0magent\u001b[0m\u001b[0;34m.\u001b[0m\u001b[0mmodel\u001b[0m\u001b[0;34m(\u001b[0m\u001b[0msilver\u001b[0m\u001b[0;34m)\u001b[0m\u001b[0;34m,\u001b[0m \u001b[0magent\u001b[0m\u001b[0;34m.\u001b[0m\u001b[0mmodel\u001b[0m\u001b[0;34m(\u001b[0m\u001b[0mestate\u001b[0m\u001b[0;34m)\u001b[0m\u001b[0;34m\u001b[0m\u001b[0;34m\u001b[0m\u001b[0m\n\u001b[0m",
      "\u001b[0;31mTypeError\u001b[0m: 'LogisticRegression' object is not callable"
     ]
    }
   ],
   "source": [
    "agent.model(copper), agent.model(silver), agent.model(estate)"
   ]
  },
  {
   "source": [
    "## Tree Simulations ##"
   ],
   "cell_type": "markdown",
   "metadata": {}
  },
  {
   "cell_type": "code",
   "execution_count": 6,
   "metadata": {},
   "outputs": [],
   "source": [
    "from mcts import GameTree"
   ]
  },
  {
   "cell_type": "code",
   "execution_count": 77,
   "metadata": {},
   "outputs": [],
   "source": [
    "tree_name = 'default-r-r-mcts'\n",
    "tree_path = os.path.join(model_dir, tree_name)\n",
    "rollout_name = 'default-mlog'\n",
    "rollout_path = os.path.join(model_dir, rollout_name)"
   ]
  },
  {
   "cell_type": "code",
   "execution_count": 78,
   "metadata": {},
   "outputs": [],
   "source": [
    "tree_name = 'r-r-mcts-bm-100k-score-base-default'\n",
    "rollout_name = 'mlog-10k-base-default'\n",
    "tree_path = os.path.join(model_dir, tree_name)\n",
    "rollout_path = os.path.join(model_dir, rollout_name)"
   ]
  },
  {
   "cell_type": "code",
   "execution_count": 79,
   "metadata": {},
   "outputs": [],
   "source": [
    "tree = GameTree.load(tree_path, train=False)"
   ]
  },
  {
   "cell_type": "code",
   "execution_count": 34,
   "metadata": {},
   "outputs": [
    {
     "output_type": "execute_result",
     "data": {
      "text/plain": [
       "Parent: None | n: 806, v: 208.5, v_bar: 0.259 c: None | Children: [('Copper', '0.000'), ('Estate', '0.000'), ('Duchy', '0.000'), ('Silver', '0.000'), ('Chapel', '0.000'), ('Moat', '0.000'), ('Village', '0.000'), ('Militia', '0.600'), ('MoneyLender', '0.625'), ('Smithy', '0.000'), ('Council Room', '0.667'), ('Laboratory', '0.000'), ('Market', '0.500'), ('Witch', '0.754'), ('None', '0.500')]"
      ]
     },
     "metadata": {},
     "execution_count": 34
    }
   ],
   "source": [
    "tree._root.children[3]"
   ]
  },
  {
   "cell_type": "code",
   "execution_count": 129,
   "metadata": {},
   "outputs": [],
   "source": [
    "# config = GameConfig(split=StartingSplit.StartingRandomSplit, sandbox=True, num_players=2)\n",
    "config = GameConfig(split=StartingSplit.Starting34Split, sandbox=False, num_players=2, must_include=default_kingdom)\n",
    "players = load_players(['UCT', 'DW'], [rollout_path], tree=tree, train=False, rollout_type='mlog', use_tree=True)\n",
    "# agent = load_players(['UCT'], [rollout_path], tree=tree, train=False, rollout_type='mlog', use_tree=True)[0]\n",
    "# players = [agent, agent]\n",
    "env = DefaultEnvironment(config, players, logger=logger)"
   ]
  },
  {
   "cell_type": "code",
   "execution_count": 118,
   "metadata": {},
   "outputs": [],
   "source": [
    "# logger.setLevel(logging.ERROR)\n",
    "logger.setLevel(BUY)"
   ]
  },
  {
   "cell_type": "code",
   "execution_count": 130,
   "metadata": {
    "tags": []
   },
   "outputs": [
    {
     "output_type": "stream",
     "name": "stderr",
     "text": [
      "  0%|          | 0/1 [00:00<?, ?it/s]BUY:Player 0, Turn 0: Silver\n",
      "BUY:Player 1, Turn 1: Silver\n",
      "BUY:Player 0, Turn 1: Militia\n",
      "BUY:Player 1, Turn 2: Silver\n",
      "BUY:Player 0, Turn 2: Silver\n",
      "BUY:Player 1, Turn 3: Witch\n",
      "BUY:Player 0, Turn 3: Silver\n",
      "BUY:Player 1, Turn 4: None\n",
      "BUY:Player 0, Turn 4: Silver\n",
      "BUY:Player 1, Turn 5: Witch\n",
      "BUY:Player 0, Turn 5: Province\n",
      "BUY:Player 1, Turn 6: Silver\n",
      "BUY:Player 0, Turn 6: Silver\n",
      "BUY:Player 1, Turn 7: Silver\n",
      "BUY:Player 0, Turn 7: Silver\n",
      "BUY:Player 1, Turn 8: Gold\n",
      "BUY:Player 0, Turn 8: Gold\n",
      "BUY:Player 1, Turn 9: Silver\n",
      "BUY:Player 0, Turn 9: Province\n",
      "BUY:Player 1, Turn 10: Province\n",
      "BUY:Player 0, Turn 10: Gold\n",
      "BUY:Player 1, Turn 11: Silver\n",
      "BUY:Player 0, Turn 11: Gold\n",
      "BUY:Player 1, Turn 12: Silver\n",
      "BUY:Player 0, Turn 12: Chapel\n",
      "BUY:Player 1, Turn 13: Silver\n",
      "BUY:Player 0, Turn 13: Silver\n",
      "BUY:Player 1, Turn 14: Province\n",
      "BUY:Player 0, Turn 14: Duchy\n",
      "BUY:Player 1, Turn 15: Silver\n",
      "BUY:Player 0, Turn 15: Silver\n",
      "BUY:Player 1, Turn 16: Gold\n",
      "BUY:Player 0, Turn 16: Province\n",
      "BUY:Player 1, Turn 17: Province\n",
      "BUY:Player 0, Turn 17: Province\n",
      "BUY:Player 1, Turn 18: Province\n",
      "100%|██████████| 1/1 [00:00<00:00, 25.84it/s]===SUMMARY===\n",
      "{0: 0, 1: 1, 'ProvinceWins': 1, 'Ties': 0}\n",
      "\n"
     ]
    }
   ],
   "source": [
    "sim_data = simulate(env, 1, tree)"
   ]
  },
  {
   "cell_type": "code",
   "execution_count": 93,
   "metadata": {},
   "outputs": [
    {
     "output_type": "execute_result",
     "data": {
      "text/plain": [
       "      Turns  Player  Score    Won  Iter\n",
       "0        17       0   33.0  False     1\n",
       "1        18       1   37.0   True     1\n",
       "2        19       0   24.0  False     2\n",
       "3        19       1   33.0   True     2\n",
       "4        22       0   36.0  False     3\n",
       "...     ...     ...    ...    ...   ...\n",
       "1995     20       1   32.0  False   998\n",
       "1996     21       0   36.0  False   999\n",
       "1997     21       1   38.0   True   999\n",
       "1998     17       0   30.0  False  1000\n",
       "1999     18       1   37.0   True  1000\n",
       "\n",
       "[2000 rows x 5 columns]"
      ],
      "text/html": "<div>\n<style scoped>\n    .dataframe tbody tr th:only-of-type {\n        vertical-align: middle;\n    }\n\n    .dataframe tbody tr th {\n        vertical-align: top;\n    }\n\n    .dataframe thead th {\n        text-align: right;\n    }\n</style>\n<table border=\"1\" class=\"dataframe\">\n  <thead>\n    <tr style=\"text-align: right;\">\n      <th></th>\n      <th>Turns</th>\n      <th>Player</th>\n      <th>Score</th>\n      <th>Won</th>\n      <th>Iter</th>\n    </tr>\n  </thead>\n  <tbody>\n    <tr>\n      <th>0</th>\n      <td>17</td>\n      <td>0</td>\n      <td>33.0</td>\n      <td>False</td>\n      <td>1</td>\n    </tr>\n    <tr>\n      <th>1</th>\n      <td>18</td>\n      <td>1</td>\n      <td>37.0</td>\n      <td>True</td>\n      <td>1</td>\n    </tr>\n    <tr>\n      <th>2</th>\n      <td>19</td>\n      <td>0</td>\n      <td>24.0</td>\n      <td>False</td>\n      <td>2</td>\n    </tr>\n    <tr>\n      <th>3</th>\n      <td>19</td>\n      <td>1</td>\n      <td>33.0</td>\n      <td>True</td>\n      <td>2</td>\n    </tr>\n    <tr>\n      <th>4</th>\n      <td>22</td>\n      <td>0</td>\n      <td>36.0</td>\n      <td>False</td>\n      <td>3</td>\n    </tr>\n    <tr>\n      <th>...</th>\n      <td>...</td>\n      <td>...</td>\n      <td>...</td>\n      <td>...</td>\n      <td>...</td>\n    </tr>\n    <tr>\n      <th>1995</th>\n      <td>20</td>\n      <td>1</td>\n      <td>32.0</td>\n      <td>False</td>\n      <td>998</td>\n    </tr>\n    <tr>\n      <th>1996</th>\n      <td>21</td>\n      <td>0</td>\n      <td>36.0</td>\n      <td>False</td>\n      <td>999</td>\n    </tr>\n    <tr>\n      <th>1997</th>\n      <td>21</td>\n      <td>1</td>\n      <td>38.0</td>\n      <td>True</td>\n      <td>999</td>\n    </tr>\n    <tr>\n      <th>1998</th>\n      <td>17</td>\n      <td>0</td>\n      <td>30.0</td>\n      <td>False</td>\n      <td>1000</td>\n    </tr>\n    <tr>\n      <th>1999</th>\n      <td>18</td>\n      <td>1</td>\n      <td>37.0</td>\n      <td>True</td>\n      <td>1000</td>\n    </tr>\n  </tbody>\n</table>\n<p>2000 rows × 5 columns</p>\n</div>"
     },
     "metadata": {},
     "execution_count": 93
    }
   ],
   "source": [
    "sim_data.player_df"
   ]
  },
  {
   "cell_type": "code",
   "execution_count": 114,
   "metadata": {},
   "outputs": [],
   "source": [
    "data_dir = os.path.join(project_root, 'data')\n",
    "data_name ='uct-uct-10k-scores'\n",
    "data_path = os.path.join(data_dir, data_name)"
   ]
  },
  {
   "cell_type": "code",
   "execution_count": 115,
   "metadata": {},
   "outputs": [],
   "source": [
    "save(data_path, sim_data.player_df)"
   ]
  }
 ]
}