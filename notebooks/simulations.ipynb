{
 "metadata": {
  "language_info": {
   "codemirror_mode": {
    "name": "ipython",
    "version": 3
   },
   "file_extension": ".py",
   "mimetype": "text/x-python",
   "name": "python",
   "nbconvert_exporter": "python",
   "pygments_lexer": "ipython3",
   "version": "3.8.5-final"
  },
  "orig_nbformat": 2,
  "kernelspec": {
   "name": "python3",
   "display_name": "Python 3",
   "language": "python"
  }
 },
 "nbformat": 4,
 "nbformat_minor": 2,
 "cells": [
  {
   "cell_type": "code",
   "execution_count": 1,
   "metadata": {},
   "outputs": [],
   "source": [
    "%load_ext autoreload\n",
    "%autoreload 2"
   ]
  },
  {
   "source": [
    "Load model"
   ],
   "cell_type": "markdown",
   "metadata": {}
  },
  {
   "cell_type": "code",
   "execution_count": 69,
   "metadata": {},
   "outputs": [],
   "source": [
    "import os\n",
    "\n",
    "from aiutils import load"
   ]
  },
  {
   "cell_type": "code",
   "execution_count": 7,
   "metadata": {},
   "outputs": [],
   "source": [
    "project_root = '/home/justiny/Documents/Projects/PyDominion'\n",
    "model_dir = os.path.join(project_root, 'models')"
   ]
  },
  {
   "cell_type": "code",
   "execution_count": 4,
   "metadata": {},
   "outputs": [],
   "source": [
    "model_name = 'r-r-mcts-10k-score'\n",
    "model_path = os.path.join(model_dir, model_name)"
   ]
  },
  {
   "cell_type": "code",
   "execution_count": 62,
   "metadata": {},
   "outputs": [],
   "source": [
    "import torch"
   ]
  },
  {
   "cell_type": "code",
   "execution_count": 112,
   "metadata": {},
   "outputs": [
    {
     "output_type": "execute_result",
     "data": {
      "text/plain": [
       "PredictorMLP(\n",
       "  (fc1): Linear(in_features=21, out_features=11, bias=True)\n",
       "  (fc2): Linear(in_features=11, out_features=1, bias=True)\n",
       "  (sigmoid): Sigmoid()\n",
       "  (relu): LeakyReLU(negative_slope=0.01)\n",
       "  (tanh): Tanh()\n",
       ")"
      ]
     },
     "metadata": {},
     "execution_count": 112
    }
   ],
   "source": [
    "model = torch.load(model_path, map_location='cpu')\n",
    "model"
   ]
  },
  {
   "cell_type": "code",
   "execution_count": 2,
   "metadata": {},
   "outputs": [],
   "source": [
    "import logging\n",
    "\n",
    "from config import GameConfig \n",
    "from constants import BUY\n",
    "from enums import StartingSplit\n",
    "from env import DefaultEnvironment\n",
    "from player import load_players\n",
    "from simulations import simulate"
   ]
  },
  {
   "cell_type": "code",
   "execution_count": 3,
   "metadata": {},
   "outputs": [],
   "source": [
    "from buyagenda import BigMoneyBuyAgenda\n",
    "from player import HeuristicPlayer, PredictorMLPPlayer"
   ]
  },
  {
   "cell_type": "code",
   "execution_count": 4,
   "metadata": {},
   "outputs": [],
   "source": [
    "logger = logging.getLogger()\n",
    "logger.setLevel(logging.ERROR)\n",
    "# logger.setLevel(BUY)"
   ]
  },
  {
   "cell_type": "code",
   "execution_count": 114,
   "metadata": {},
   "outputs": [],
   "source": [
    "config = GameConfig(split=StartingSplit.StartingRandomSplit, sandbox=True, num_players=2)\n",
    "players = load_players(['MLP', 'BM'], [model_path], map_location='cpu', train=False)\n",
    "agent = players[0]\n",
    "env = DefaultEnvironment(config, players, logger=logger)"
   ]
  },
  {
   "cell_type": "code",
   "execution_count": 117,
   "metadata": {},
   "outputs": [
    {
     "output_type": "stream",
     "name": "stderr",
     "text": [
      "  0%|          | 0/1 [00:00<?, ?it/s]BUY:root:Player 0, Turn 0: Estate\n",
      "BUY:root:Player 1, Turn 1: Silver\n",
      "BUY:root:Player 0, Turn 1: Estate\n",
      "BUY:root:Player 1, Turn 2: Silver\n",
      "BUY:root:Player 0, Turn 2: Estate\n",
      "BUY:root:Player 1, Turn 3: Gold\n",
      "BUY:root:Player 0, Turn 3: Estate\n",
      "BUY:root:Player 1, Turn 4: Silver\n",
      "BUY:root:Player 0, Turn 4: Estate\n",
      "BUY:root:Player 1, Turn 5: Silver\n",
      "BUY:root:Player 0, Turn 5: None\n",
      "BUY:root:Player 1, Turn 6: Gold\n",
      "BUY:root:Player 0, Turn 6: Estate\n",
      "BUY:root:Player 1, Turn 7: Gold\n",
      "BUY:root:Player 0, Turn 7: Copper\n",
      "BUY:root:Player 1, Turn 8: Gold\n",
      "BUY:root:Player 0, Turn 8: Estate\n",
      "BUY:root:Player 1, Turn 9: Silver\n",
      "BUY:root:Player 0, Turn 9: Estate\n",
      "BUY:root:Player 1, Turn 10: Silver\n",
      "BUY:root:Player 0, Turn 10: Copper\n",
      "BUY:root:Player 1, Turn 11: Province\n",
      "BUY:root:Player 0, Turn 11: Copper\n",
      "BUY:root:Player 1, Turn 12: Gold\n",
      "BUY:root:Player 0, Turn 12: Silver\n",
      "BUY:root:Player 1, Turn 13: Province\n",
      "BUY:root:Player 0, Turn 13: Copper\n",
      "BUY:root:Player 1, Turn 14: Gold\n",
      "BUY:root:Player 0, Turn 14: Copper\n",
      "BUY:root:Player 1, Turn 15: Gold\n",
      "BUY:root:Player 0, Turn 15: Silver\n",
      "BUY:root:Player 1, Turn 16: Province\n",
      "BUY:root:Player 0, Turn 16: Silver\n",
      "BUY:root:Player 1, Turn 17: Province\n",
      "BUY:root:Player 0, Turn 17: Copper\n",
      "BUY:root:Player 1, Turn 18: Province\n",
      "BUY:root:Player 0, Turn 18: Silver\n",
      "BUY:root:Player 1, Turn 19: Province\n",
      "BUY:root:Player 0, Turn 19: Copper\n",
      "BUY:root:Player 1, Turn 20: Gold\n",
      "BUY:root:Player 0, Turn 20: Copper\n",
      "BUY:root:Player 1, Turn 21: Province\n",
      "BUY:root:Player 0, Turn 21: Copper\n",
      "BUY:root:Player 1, Turn 22: Gold\n",
      "BUY:root:Player 0, Turn 22: Copper\n",
      "BUY:root:Player 1, Turn 23: Province\n",
      "100%|██████████| 1/1 [00:00<00:00, 21.24it/s]===SUMMARY===\n",
      "{0: 0, 1: 1, 'ProvinceWins': 1, 'Ties': 0}\n",
      "\n"
     ]
    },
    {
     "output_type": "execute_result",
     "data": {
      "text/plain": [
       "<simulationdata.SimulationData at 0x7fb372a06970>"
      ]
     },
     "metadata": {},
     "execution_count": 117
    }
   ],
   "source": [
    "simulate(env, 1, None)"
   ]
  },
  {
   "source": [
    "Let's analyze the neural network outputs for some simple cases."
   ],
   "cell_type": "markdown",
   "metadata": {}
  },
  {
   "cell_type": "code",
   "execution_count": 20,
   "metadata": {},
   "outputs": [],
   "source": [
    "from state import ReducedStateFeature"
   ]
  },
  {
   "cell_type": "code",
   "execution_count": 21,
   "metadata": {},
   "outputs": [],
   "source": [
    "skip = ReducedStateFeature.default_sandbox_feature()\n",
    "copper = ReducedStateFeature.default_sandbox_feature()\n",
    "silver = ReducedStateFeature.default_sandbox_feature()\n",
    "estate = ReducedStateFeature.default_sandbox_feature()"
   ]
  },
  {
   "cell_type": "code",
   "execution_count": 22,
   "metadata": {},
   "outputs": [
    {
     "output_type": "execute_result",
     "data": {
      "text/plain": [
       "tensor([45., 10.,  8.,  8.,  8., 40., 30.,  8.,  0.,  3.,  0.,  0.,  0.,  0.,\n",
       "         7.,  0.,  3.,  0.,  0.,  0.,  0.])"
      ]
     },
     "metadata": {},
     "execution_count": 22
    }
   ],
   "source": [
    "copper[0] = 45\n",
    "copper[7] = 8\n",
    "copper"
   ]
  },
  {
   "cell_type": "code",
   "execution_count": 23,
   "metadata": {},
   "outputs": [
    {
     "output_type": "execute_result",
     "data": {
      "text/plain": [
       "tensor([46., 10.,  8.,  8.,  8., 39., 30.,  7.,  0.,  3.,  0.,  0.,  1.,  0.,\n",
       "         7.,  0.,  3.,  0.,  0.,  0.,  0.])"
      ]
     },
     "metadata": {},
     "execution_count": 23
    }
   ],
   "source": [
    "silver[5] = 39\n",
    "silver[7+5] = 1\n",
    "silver"
   ]
  },
  {
   "cell_type": "code",
   "execution_count": 24,
   "metadata": {},
   "outputs": [
    {
     "output_type": "execute_result",
     "data": {
      "text/plain": [
       "tensor([46., 10.,  7.,  8.,  8., 40., 30.,  7.,  0.,  4.,  0.,  0.,  0.,  0.,\n",
       "         7.,  0.,  3.,  0.,  0.,  0.,  0.])"
      ]
     },
     "metadata": {},
     "execution_count": 24
    }
   ],
   "source": [
    "estate[2] = 7\n",
    "estate[7+2] = 4\n",
    "estate"
   ]
  },
  {
   "cell_type": "code",
   "execution_count": 54,
   "metadata": {},
   "outputs": [
    {
     "output_type": "error",
     "ename": "TypeError",
     "evalue": "'LogisticRegression' object is not callable",
     "traceback": [
      "\u001b[0;31m---------------------------------------------------------------------------\u001b[0m",
      "\u001b[0;31mTypeError\u001b[0m                                 Traceback (most recent call last)",
      "\u001b[0;32m<ipython-input-54-0665552ed039>\u001b[0m in \u001b[0;36m<module>\u001b[0;34m\u001b[0m\n\u001b[0;32m----> 1\u001b[0;31m \u001b[0magent\u001b[0m\u001b[0;34m.\u001b[0m\u001b[0mmodel\u001b[0m\u001b[0;34m(\u001b[0m\u001b[0mcopper\u001b[0m\u001b[0;34m)\u001b[0m\u001b[0;34m,\u001b[0m \u001b[0magent\u001b[0m\u001b[0;34m.\u001b[0m\u001b[0mmodel\u001b[0m\u001b[0;34m(\u001b[0m\u001b[0msilver\u001b[0m\u001b[0;34m)\u001b[0m\u001b[0;34m,\u001b[0m \u001b[0magent\u001b[0m\u001b[0;34m.\u001b[0m\u001b[0mmodel\u001b[0m\u001b[0;34m(\u001b[0m\u001b[0mestate\u001b[0m\u001b[0;34m)\u001b[0m\u001b[0;34m\u001b[0m\u001b[0;34m\u001b[0m\u001b[0m\n\u001b[0m",
      "\u001b[0;31mTypeError\u001b[0m: 'LogisticRegression' object is not callable"
     ]
    }
   ],
   "source": [
    "agent.model(copper), agent.model(silver), agent.model(estate)"
   ]
  },
  {
   "source": [
    "Tree Simulations"
   ],
   "cell_type": "markdown",
   "metadata": {}
  },
  {
   "cell_type": "code",
   "execution_count": 5,
   "metadata": {},
   "outputs": [],
   "source": [
    "from mcts import GameTree"
   ]
  },
  {
   "cell_type": "code",
   "execution_count": 8,
   "metadata": {},
   "outputs": [],
   "source": [
    "tree_name = 'r-r-mcts-10k-scaled-score'\n",
    "tree_path = os.path.join(model_dir, tree_name)\n",
    "rollout_name = 'mlog-10k'\n",
    "rollout_path = os.path.join(model_dir, rollout_name)"
   ]
  },
  {
   "cell_type": "code",
   "execution_count": 9,
   "metadata": {},
   "outputs": [],
   "source": [
    "tree = GameTree.load(tree_path, train=False)"
   ]
  },
  {
   "cell_type": "code",
   "execution_count": 18,
   "metadata": {},
   "outputs": [],
   "source": [
    "config = GameConfig(split=StartingSplit.StartingRandomSplit, sandbox=True, num_players=2)\n",
    "players = load_players(['UCT', 'BM'], [rollout_path], tree=tree, train=False, rollout_type='mlog')\n",
    "agent = players[0]\n",
    "env = DefaultEnvironment(config, players, logger=logger)"
   ]
  },
  {
   "cell_type": "code",
   "execution_count": 11,
   "metadata": {},
   "outputs": [],
   "source": [
    "# logger.setLevel(logging.ERROR)\n",
    "logger.setLevel(BUY)"
   ]
  },
  {
   "cell_type": "code",
   "execution_count": 19,
   "metadata": {},
   "outputs": [
    {
     "output_type": "stream",
     "name": "stderr",
     "text": [
      "  0%|          | 0/1 [00:00<?, ?it/s]BUY:Player 0, Turn 0: Estate\n",
      "BUY:Player 1, Turn 1: Silver\n",
      "BUY:Player 0, Turn 1: Estate\n",
      "BUY:Player 1, Turn 2: Silver\n",
      "BUY:Player 0, Turn 2: Estate\n",
      "BUY:Player 1, Turn 3: Silver\n",
      "BUY:Player 0, Turn 3: Estate\n",
      "BUY:Player 1, Turn 4: Silver\n",
      "BUY:Player 0, Turn 4: None\n",
      "BUY:Player 1, Turn 5: Silver\n",
      "BUY:Player 0, Turn 5: Estate\n",
      "BUY:Player 1, Turn 6: Gold\n",
      "BUY:Player 0, Turn 6: Estate\n",
      "BUY:Player 1, Turn 7: Silver\n",
      "BUY:Player 0, Turn 7: Estate\n",
      "BUY:Player 1, Turn 8: Gold\n",
      "BUY:Player 0, Turn 8: None\n",
      "BUY:Player 1, Turn 9: Province\n",
      "BUY:Player 0, Turn 9: None\n",
      "BUY:Player 1, Turn 10: Silver\n",
      "BUY:Player 0, Turn 10: None\n",
      "BUY:Player 1, Turn 11: Province\n",
      "BUY:Player 0, Turn 11: Copper\n",
      "BUY:Player 1, Turn 12: Gold\n",
      "BUY:Player 0, Turn 12: Copper\n",
      "BUY:Player 1, Turn 13: Gold\n",
      "BUY:Player 0, Turn 13: Copper\n",
      "BUY:Player 1, Turn 14: Silver\n",
      "BUY:Player 0, Turn 14: Copper\n",
      "BUY:Player 1, Turn 15: Gold\n",
      "BUY:Player 0, Turn 15: Copper\n",
      "BUY:Player 1, Turn 16: Province\n",
      "BUY:Player 0, Turn 16: None\n",
      "BUY:Player 1, Turn 17: Gold\n",
      "BUY:Player 0, Turn 17: None\n",
      "BUY:Player 1, Turn 18: Province\n",
      "BUY:Player 0, Turn 18: Copper\n",
      "BUY:Player 1, Turn 19: Silver\n",
      "BUY:Player 0, Turn 19: Copper\n",
      "BUY:Player 1, Turn 20: Province\n",
      "BUY:Player 0, Turn 20: Silver\n",
      "BUY:Player 1, Turn 21: Gold\n",
      "BUY:Player 0, Turn 21: Silver\n",
      "BUY:Player 1, Turn 22: Gold\n",
      "BUY:Player 0, Turn 22: Silver\n",
      "BUY:Player 1, Turn 23: Province\n",
      "BUY:Player 0, Turn 23: None\n",
      "BUY:Player 1, Turn 24: Province\n",
      "BUY:Player 0, Turn 24: None\n",
      "BUY:Player 1, Turn 25: Duchy\n",
      "BUY:Player 0, Turn 25: None\n",
      "BUY:Player 1, Turn 26: Gold\n",
      "BUY:Player 0, Turn 26: None\n",
      "BUY:Player 1, Turn 27: Duchy\n",
      "BUY:Player 0, Turn 27: Copper\n",
      "BUY:Player 1, Turn 28: Province\n",
      "100%|██████████| 1/1 [00:00<00:00, 21.51it/s]===SUMMARY===\n",
      "{0: 0, 1: 1, 'ProvinceWins': 1, 'Ties': 0}\n",
      "\n"
     ]
    },
    {
     "output_type": "execute_result",
     "data": {
      "text/plain": [
       "<simulationdata.SimulationData at 0x7f76dee52130>"
      ]
     },
     "metadata": {},
     "execution_count": 19
    }
   ],
   "source": [
    "simulate(env, 1, tree)"
   ]
  },
  {
   "cell_type": "code",
   "execution_count": 13,
   "metadata": {},
   "outputs": [],
   "source": [
    "rollouts = players[0].rollout.models\n"
   ]
  },
  {
   "cell_type": "code",
   "execution_count": 25,
   "metadata": {},
   "outputs": [
    {
     "output_type": "execute_result",
     "data": {
      "text/plain": [
       "(array([-0.19708913, -0.06241848, -0.02408548,  0.27634834,  1.24134186,\n",
       "        -0.12067769,  0.11260199]),\n",
       " array([ 0.14400049,  0.        , -0.02566072,  0.91370371,  3.41859173,\n",
       "         0.30908846,  0.37064732]),\n",
       " array([-0.32142226,  0.        , -0.03763968, -1.23998683, -4.70986837,\n",
       "        -0.4380847 , -0.67050476]))"
      ]
     },
     "metadata": {},
     "execution_count": 25
    }
   ],
   "source": [
    "i = 8\n",
    "rollout_model = rollouts[i]\n",
    "rollout_model.coef_[0][:7], rollouts[i].coef_[0][7:14], rollouts[i].coef_[0][14:]"
   ]
  },
  {
   "cell_type": "code",
   "execution_count": 27,
   "metadata": {},
   "outputs": [
    {
     "output_type": "execute_result",
     "data": {
      "text/plain": [
       "array([[0.57142982, 0.42857018],\n",
       "       [0.54958911, 0.45041089],\n",
       "       [0.65256928, 0.34743072]])"
      ]
     },
     "metadata": {},
     "execution_count": 27
    }
   ],
   "source": [
    "rollout_model.predict_proba([copper.numpy(), silver.numpy(), estate.numpy()])"
   ]
  },
  {
   "cell_type": "code",
   "execution_count": 37,
   "metadata": {},
   "outputs": [
    {
     "output_type": "execute_result",
     "data": {
      "text/plain": [
       "[None<--n: 832, v: 15264, c: None-->['Copper', 'Estate', 'None'],\n",
       " None<--n: 4201, v: 77413, c: None-->['Copper', 'Estate', 'Silver', 'None'],\n",
       " None<--n: 4081, v: 72140, c: None-->['Copper', 'Estate', 'Silver', 'None'],\n",
       " None<--n: 886, v: 15063, c: None-->['Copper', 'Estate', 'Duchy', 'Silver', 'None']]"
      ]
     },
     "metadata": {},
     "execution_count": 37
    }
   ],
   "source": [
    "tree.node.children"
   ]
  }
 ]
}