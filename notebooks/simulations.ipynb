{
 "metadata": {
  "language_info": {
   "codemirror_mode": {
    "name": "ipython",
    "version": 3
   },
   "file_extension": ".py",
   "mimetype": "text/x-python",
   "name": "python",
   "nbconvert_exporter": "python",
   "pygments_lexer": "ipython3",
   "version": "3.8.5-final"
  },
  "orig_nbformat": 2,
  "kernelspec": {
   "name": "python3",
   "display_name": "Python 3",
   "language": "python"
  }
 },
 "nbformat": 4,
 "nbformat_minor": 2,
 "cells": [
  {
   "cell_type": "code",
   "execution_count": 1,
   "metadata": {},
   "outputs": [],
   "source": [
    "%load_ext autoreload\n",
    "%autoreload 2"
   ]
  },
  {
   "cell_type": "code",
   "execution_count": 2,
   "metadata": {},
   "outputs": [],
   "source": [
    "import os\n",
    "import logging\n",
    "import torch\n",
    "\n",
    "from actioncard import Chapel, Moat, Village, Militia, Moneylender, Smithy, CouncilRoom, Laboratory, Market, Witch\n",
    "from aiutils import load, save\n",
    "from buyagenda import BigMoneyBuyAgenda\n",
    "from config import GameConfig\n",
    "from constants import BUY\n",
    "from enums import StartingSplit\n",
    "from env import DefaultEnvironment\n",
    "from player import HeuristicPlayer, load_players, PredictorMLPPlayer\n",
    "from simulations import simulate"
   ]
  },
  {
   "cell_type": "code",
   "execution_count": 3,
   "metadata": {},
   "outputs": [],
   "source": [
    "default_kingdom = [Chapel, Moat, Village, Militia, Moneylender, Smithy, CouncilRoom, Laboratory, Market, Witch]"
   ]
  },
  {
   "cell_type": "code",
   "execution_count": 4,
   "metadata": {},
   "outputs": [],
   "source": [
    "project_root = '/home/justiny/Documents/Projects/PyDominion'\n",
    "model_dir = os.path.join(project_root, 'models')"
   ]
  },
  {
   "cell_type": "code",
   "execution_count": 5,
   "metadata": {},
   "outputs": [],
   "source": [
    "logger = logging.getLogger()\n",
    "logger.setLevel(logging.ERROR)\n",
    "# logger.setLevel(BUY)"
   ]
  },
  {
   "source": [
    "## First-mover advantage ##"
   ],
   "cell_type": "markdown",
   "metadata": {}
  },
  {
   "cell_type": "code",
   "execution_count": 6,
   "metadata": {},
   "outputs": [],
   "source": [
    "import seaborn as sns"
   ]
  },
  {
   "cell_type": "code",
   "execution_count": 7,
   "metadata": {},
   "outputs": [],
   "source": [
    "config = GameConfig(splits=[StartingSplit.Starting34Split, StartingSplit.Starting34Split], sandbox=True, num_players=2)\n",
    "players = load_players(['BM', 'BM'], None, map_location='cpu', train=False)\n",
    "agent = players[0]\n",
    "env = DefaultEnvironment(config, players, logger=logger)"
   ]
  },
  {
   "cell_type": "code",
   "execution_count": 21,
   "metadata": {},
   "outputs": [
    {
     "output_type": "stream",
     "name": "stderr",
     "text": [
      "100%|██████████| 10000/10000 [02:01<00:00, 82.36it/s]===SUMMARY===\n",
      "{0: 6786, 1: 5753, 'ProvinceWins': 10000, 'Ties': 2539}\n",
      "\n"
     ]
    }
   ],
   "source": [
    "stats = simulate(env, 10000, None)"
   ]
  },
  {
   "cell_type": "code",
   "execution_count": 19,
   "metadata": {},
   "outputs": [
    {
     "output_type": "stream",
     "name": "stderr",
     "text": [
      "100%|██████████| 100/100 [00:01<00:00, 66.58it/s]===SUMMARY===\n",
      "{0: 69, 1: 54, 'ProvinceWins': 100, 'Ties': 23}\n",
      "\n"
     ]
    }
   ],
   "source": [
    "test_stats = simulate(env, 100, None, turn_log=True)"
   ]
  },
  {
   "cell_type": "code",
   "execution_count": 18,
   "metadata": {},
   "outputs": [
    {
     "output_type": "execute_result",
     "data": {
      "text/plain": [
       "      Iter  Player  Score      Card  Turn\n",
       "0        0       0      3    Silver     0\n",
       "1        0       1      3    Silver     0\n",
       "2        0       0      3    Silver     1\n",
       "3        0       1      3    Silver     1\n",
       "4        0       0      3      Gold     2\n",
       "...    ...     ...    ...       ...   ...\n",
       "3383    99       0     15      Gold    14\n",
       "3384    99       1     30  Province    14\n",
       "3385    99       0     15      Gold    15\n",
       "3386    99       1     36  Province    15\n",
       "3387    99       0     21  Province    16\n",
       "\n",
       "[3388 rows x 5 columns]"
      ],
      "text/html": "<div>\n<style scoped>\n    .dataframe tbody tr th:only-of-type {\n        vertical-align: middle;\n    }\n\n    .dataframe tbody tr th {\n        vertical-align: top;\n    }\n\n    .dataframe thead th {\n        text-align: right;\n    }\n</style>\n<table border=\"1\" class=\"dataframe\">\n  <thead>\n    <tr style=\"text-align: right;\">\n      <th></th>\n      <th>Iter</th>\n      <th>Player</th>\n      <th>Score</th>\n      <th>Card</th>\n      <th>Turn</th>\n    </tr>\n  </thead>\n  <tbody>\n    <tr>\n      <th>0</th>\n      <td>0</td>\n      <td>0</td>\n      <td>3</td>\n      <td>Silver</td>\n      <td>0</td>\n    </tr>\n    <tr>\n      <th>1</th>\n      <td>0</td>\n      <td>1</td>\n      <td>3</td>\n      <td>Silver</td>\n      <td>0</td>\n    </tr>\n    <tr>\n      <th>2</th>\n      <td>0</td>\n      <td>0</td>\n      <td>3</td>\n      <td>Silver</td>\n      <td>1</td>\n    </tr>\n    <tr>\n      <th>3</th>\n      <td>0</td>\n      <td>1</td>\n      <td>3</td>\n      <td>Silver</td>\n      <td>1</td>\n    </tr>\n    <tr>\n      <th>4</th>\n      <td>0</td>\n      <td>0</td>\n      <td>3</td>\n      <td>Gold</td>\n      <td>2</td>\n    </tr>\n    <tr>\n      <th>...</th>\n      <td>...</td>\n      <td>...</td>\n      <td>...</td>\n      <td>...</td>\n      <td>...</td>\n    </tr>\n    <tr>\n      <th>3383</th>\n      <td>99</td>\n      <td>0</td>\n      <td>15</td>\n      <td>Gold</td>\n      <td>14</td>\n    </tr>\n    <tr>\n      <th>3384</th>\n      <td>99</td>\n      <td>1</td>\n      <td>30</td>\n      <td>Province</td>\n      <td>14</td>\n    </tr>\n    <tr>\n      <th>3385</th>\n      <td>99</td>\n      <td>0</td>\n      <td>15</td>\n      <td>Gold</td>\n      <td>15</td>\n    </tr>\n    <tr>\n      <th>3386</th>\n      <td>99</td>\n      <td>1</td>\n      <td>36</td>\n      <td>Province</td>\n      <td>15</td>\n    </tr>\n    <tr>\n      <th>3387</th>\n      <td>99</td>\n      <td>0</td>\n      <td>21</td>\n      <td>Province</td>\n      <td>16</td>\n    </tr>\n  </tbody>\n</table>\n<p>3388 rows × 5 columns</p>\n</div>"
     },
     "metadata": {},
     "execution_count": 18
    }
   ],
   "source": [
    "test_stats.turn_df"
   ]
  },
  {
   "cell_type": "code",
   "execution_count": 49,
   "metadata": {},
   "outputs": [
    {
     "output_type": "execute_result",
     "data": {
      "text/plain": [
       "       Turns  Player  Score    Won   Iter\n",
       "0         18       0   36.0   True      1\n",
       "1         17       1   27.0  False      1\n",
       "2         17       0   27.0  False      2\n",
       "3         17       1   33.0   True      2\n",
       "4         17       0   30.0   True      3\n",
       "...      ...     ...    ...    ...    ...\n",
       "19995     16       1   21.0  False   9998\n",
       "19996     19       0   34.0   True   9999\n",
       "19997     19       1   30.0  False   9999\n",
       "19998     16       0   27.0   True  10000\n",
       "19999     16       1   27.0   True  10000\n",
       "\n",
       "[20000 rows x 5 columns]"
      ],
      "text/html": "<div>\n<style scoped>\n    .dataframe tbody tr th:only-of-type {\n        vertical-align: middle;\n    }\n\n    .dataframe tbody tr th {\n        vertical-align: top;\n    }\n\n    .dataframe thead th {\n        text-align: right;\n    }\n</style>\n<table border=\"1\" class=\"dataframe\">\n  <thead>\n    <tr style=\"text-align: right;\">\n      <th></th>\n      <th>Turns</th>\n      <th>Player</th>\n      <th>Score</th>\n      <th>Won</th>\n      <th>Iter</th>\n    </tr>\n  </thead>\n  <tbody>\n    <tr>\n      <th>0</th>\n      <td>18</td>\n      <td>0</td>\n      <td>36.0</td>\n      <td>True</td>\n      <td>1</td>\n    </tr>\n    <tr>\n      <th>1</th>\n      <td>17</td>\n      <td>1</td>\n      <td>27.0</td>\n      <td>False</td>\n      <td>1</td>\n    </tr>\n    <tr>\n      <th>2</th>\n      <td>17</td>\n      <td>0</td>\n      <td>27.0</td>\n      <td>False</td>\n      <td>2</td>\n    </tr>\n    <tr>\n      <th>3</th>\n      <td>17</td>\n      <td>1</td>\n      <td>33.0</td>\n      <td>True</td>\n      <td>2</td>\n    </tr>\n    <tr>\n      <th>4</th>\n      <td>17</td>\n      <td>0</td>\n      <td>30.0</td>\n      <td>True</td>\n      <td>3</td>\n    </tr>\n    <tr>\n      <th>...</th>\n      <td>...</td>\n      <td>...</td>\n      <td>...</td>\n      <td>...</td>\n      <td>...</td>\n    </tr>\n    <tr>\n      <th>19995</th>\n      <td>16</td>\n      <td>1</td>\n      <td>21.0</td>\n      <td>False</td>\n      <td>9998</td>\n    </tr>\n    <tr>\n      <th>19996</th>\n      <td>19</td>\n      <td>0</td>\n      <td>34.0</td>\n      <td>True</td>\n      <td>9999</td>\n    </tr>\n    <tr>\n      <th>19997</th>\n      <td>19</td>\n      <td>1</td>\n      <td>30.0</td>\n      <td>False</td>\n      <td>9999</td>\n    </tr>\n    <tr>\n      <th>19998</th>\n      <td>16</td>\n      <td>0</td>\n      <td>27.0</td>\n      <td>True</td>\n      <td>10000</td>\n    </tr>\n    <tr>\n      <th>19999</th>\n      <td>16</td>\n      <td>1</td>\n      <td>27.0</td>\n      <td>True</td>\n      <td>10000</td>\n    </tr>\n  </tbody>\n</table>\n<p>20000 rows × 5 columns</p>\n</div>"
     },
     "metadata": {},
     "execution_count": 49
    }
   ],
   "source": [
    "df = stats.player_df\n",
    "p0turns, p1turns = df[df['Player'] == 0]['Turns'].reset_index(drop=True), df[df['Player'] == 1]['Turns'].reset_index(drop=True)\n",
    "diff = p0turns - p1turns\n",
    "df"
   ]
  },
  {
   "cell_type": "code",
   "execution_count": 80,
   "metadata": {},
   "outputs": [
    {
     "output_type": "execute_result",
     "data": {
      "text/plain": [
       "27"
      ]
     },
     "metadata": {},
     "execution_count": 80
    }
   ],
   "source": [
    "df['Turns'].max()"
   ]
  },
  {
   "cell_type": "code",
   "execution_count": 50,
   "metadata": {},
   "outputs": [
    {
     "output_type": "execute_result",
     "data": {
      "text/plain": [
       "      MaxScore  ProvinceWin  TimeElapsed    Tie\n",
       "0         36.0         True     0.013919  False\n",
       "1         33.0         True     0.010880  False\n",
       "2         30.0         True     0.010951  False\n",
       "3         27.0         True     0.012108   True\n",
       "4         37.0         True     0.009931  False\n",
       "...        ...          ...          ...    ...\n",
       "9995      33.0         True     0.012607  False\n",
       "9996      27.0         True     0.011654   True\n",
       "9997      36.0         True     0.011902  False\n",
       "9998      34.0         True     0.013466  False\n",
       "9999      27.0         True     0.011222   True\n",
       "\n",
       "[10000 rows x 4 columns]"
      ],
      "text/html": "<div>\n<style scoped>\n    .dataframe tbody tr th:only-of-type {\n        vertical-align: middle;\n    }\n\n    .dataframe tbody tr th {\n        vertical-align: top;\n    }\n\n    .dataframe thead th {\n        text-align: right;\n    }\n</style>\n<table border=\"1\" class=\"dataframe\">\n  <thead>\n    <tr style=\"text-align: right;\">\n      <th></th>\n      <th>MaxScore</th>\n      <th>ProvinceWin</th>\n      <th>TimeElapsed</th>\n      <th>Tie</th>\n    </tr>\n  </thead>\n  <tbody>\n    <tr>\n      <th>0</th>\n      <td>36.0</td>\n      <td>True</td>\n      <td>0.013919</td>\n      <td>False</td>\n    </tr>\n    <tr>\n      <th>1</th>\n      <td>33.0</td>\n      <td>True</td>\n      <td>0.010880</td>\n      <td>False</td>\n    </tr>\n    <tr>\n      <th>2</th>\n      <td>30.0</td>\n      <td>True</td>\n      <td>0.010951</td>\n      <td>False</td>\n    </tr>\n    <tr>\n      <th>3</th>\n      <td>27.0</td>\n      <td>True</td>\n      <td>0.012108</td>\n      <td>True</td>\n    </tr>\n    <tr>\n      <th>4</th>\n      <td>37.0</td>\n      <td>True</td>\n      <td>0.009931</td>\n      <td>False</td>\n    </tr>\n    <tr>\n      <th>...</th>\n      <td>...</td>\n      <td>...</td>\n      <td>...</td>\n      <td>...</td>\n    </tr>\n    <tr>\n      <th>9995</th>\n      <td>33.0</td>\n      <td>True</td>\n      <td>0.012607</td>\n      <td>False</td>\n    </tr>\n    <tr>\n      <th>9996</th>\n      <td>27.0</td>\n      <td>True</td>\n      <td>0.011654</td>\n      <td>True</td>\n    </tr>\n    <tr>\n      <th>9997</th>\n      <td>36.0</td>\n      <td>True</td>\n      <td>0.011902</td>\n      <td>False</td>\n    </tr>\n    <tr>\n      <th>9998</th>\n      <td>34.0</td>\n      <td>True</td>\n      <td>0.013466</td>\n      <td>False</td>\n    </tr>\n    <tr>\n      <th>9999</th>\n      <td>27.0</td>\n      <td>True</td>\n      <td>0.011222</td>\n      <td>True</td>\n    </tr>\n  </tbody>\n</table>\n<p>10000 rows × 4 columns</p>\n</div>"
     },
     "metadata": {},
     "execution_count": 50
    }
   ],
   "source": [
    "game_df = stats.game_df\n",
    "game_df"
   ]
  },
  {
   "cell_type": "code",
   "execution_count": 48,
   "metadata": {},
   "outputs": [
    {
     "output_type": "execute_result",
     "data": {
      "text/plain": [
       "0.4981"
      ]
     },
     "metadata": {},
     "execution_count": 48
    }
   ],
   "source": [
    "diff.sum() / len(diff)"
   ]
  },
  {
   "cell_type": "code",
   "execution_count": 52,
   "metadata": {},
   "outputs": [],
   "source": [
    "diff.index = diff.index * 2"
   ]
  },
  {
   "cell_type": "code",
   "execution_count": 57,
   "metadata": {},
   "outputs": [
    {
     "output_type": "execute_result",
     "data": {
      "text/plain": [
       "       Turns  Player  Score    Won   Iter\n",
       "0         18       0   36.0   True      1\n",
       "2         17       0   27.0  False      2\n",
       "4         17       0   30.0   True      3\n",
       "6         19       0   27.0   True      4\n",
       "8         15       0   24.0  False      5\n",
       "...      ...     ...    ...    ...    ...\n",
       "19990     18       0   24.0  False   9996\n",
       "19992     17       0   27.0   True   9997\n",
       "19994     17       0   36.0   True   9998\n",
       "19996     19       0   34.0   True   9999\n",
       "19998     16       0   27.0   True  10000\n",
       "\n",
       "[10000 rows x 5 columns]"
      ],
      "text/html": "<div>\n<style scoped>\n    .dataframe tbody tr th:only-of-type {\n        vertical-align: middle;\n    }\n\n    .dataframe tbody tr th {\n        vertical-align: top;\n    }\n\n    .dataframe thead th {\n        text-align: right;\n    }\n</style>\n<table border=\"1\" class=\"dataframe\">\n  <thead>\n    <tr style=\"text-align: right;\">\n      <th></th>\n      <th>Turns</th>\n      <th>Player</th>\n      <th>Score</th>\n      <th>Won</th>\n      <th>Iter</th>\n    </tr>\n  </thead>\n  <tbody>\n    <tr>\n      <th>0</th>\n      <td>18</td>\n      <td>0</td>\n      <td>36.0</td>\n      <td>True</td>\n      <td>1</td>\n    </tr>\n    <tr>\n      <th>2</th>\n      <td>17</td>\n      <td>0</td>\n      <td>27.0</td>\n      <td>False</td>\n      <td>2</td>\n    </tr>\n    <tr>\n      <th>4</th>\n      <td>17</td>\n      <td>0</td>\n      <td>30.0</td>\n      <td>True</td>\n      <td>3</td>\n    </tr>\n    <tr>\n      <th>6</th>\n      <td>19</td>\n      <td>0</td>\n      <td>27.0</td>\n      <td>True</td>\n      <td>4</td>\n    </tr>\n    <tr>\n      <th>8</th>\n      <td>15</td>\n      <td>0</td>\n      <td>24.0</td>\n      <td>False</td>\n      <td>5</td>\n    </tr>\n    <tr>\n      <th>...</th>\n      <td>...</td>\n      <td>...</td>\n      <td>...</td>\n      <td>...</td>\n      <td>...</td>\n    </tr>\n    <tr>\n      <th>19990</th>\n      <td>18</td>\n      <td>0</td>\n      <td>24.0</td>\n      <td>False</td>\n      <td>9996</td>\n    </tr>\n    <tr>\n      <th>19992</th>\n      <td>17</td>\n      <td>0</td>\n      <td>27.0</td>\n      <td>True</td>\n      <td>9997</td>\n    </tr>\n    <tr>\n      <th>19994</th>\n      <td>17</td>\n      <td>0</td>\n      <td>36.0</td>\n      <td>True</td>\n      <td>9998</td>\n    </tr>\n    <tr>\n      <th>19996</th>\n      <td>19</td>\n      <td>0</td>\n      <td>34.0</td>\n      <td>True</td>\n      <td>9999</td>\n    </tr>\n    <tr>\n      <th>19998</th>\n      <td>16</td>\n      <td>0</td>\n      <td>27.0</td>\n      <td>True</td>\n      <td>10000</td>\n    </tr>\n  </tbody>\n</table>\n<p>10000 rows × 5 columns</p>\n</div>"
     },
     "metadata": {},
     "execution_count": 57
    }
   ],
   "source": [
    "p0stats = df.iloc[diff.index]\n",
    "p0stats"
   ]
  },
  {
   "cell_type": "code",
   "execution_count": 65,
   "metadata": {},
   "outputs": [],
   "source": [
    "game_df.index *= 2"
   ]
  },
  {
   "cell_type": "code",
   "execution_count": 67,
   "metadata": {},
   "outputs": [
    {
     "output_type": "execute_result",
     "data": {
      "text/plain": [
       "       MaxScore  ProvinceWin  TimeElapsed    Tie\n",
       "0          36.0         True     0.013919  False\n",
       "2          33.0         True     0.010880  False\n",
       "4          30.0         True     0.010951  False\n",
       "6          27.0         True     0.012108   True\n",
       "8          37.0         True     0.009931  False\n",
       "...         ...          ...          ...    ...\n",
       "19990      33.0         True     0.012607  False\n",
       "19992      27.0         True     0.011654   True\n",
       "19994      36.0         True     0.011902  False\n",
       "19996      34.0         True     0.013466  False\n",
       "19998      27.0         True     0.011222   True\n",
       "\n",
       "[10000 rows x 4 columns]"
      ],
      "text/html": "<div>\n<style scoped>\n    .dataframe tbody tr th:only-of-type {\n        vertical-align: middle;\n    }\n\n    .dataframe tbody tr th {\n        vertical-align: top;\n    }\n\n    .dataframe thead th {\n        text-align: right;\n    }\n</style>\n<table border=\"1\" class=\"dataframe\">\n  <thead>\n    <tr style=\"text-align: right;\">\n      <th></th>\n      <th>MaxScore</th>\n      <th>ProvinceWin</th>\n      <th>TimeElapsed</th>\n      <th>Tie</th>\n    </tr>\n  </thead>\n  <tbody>\n    <tr>\n      <th>0</th>\n      <td>36.0</td>\n      <td>True</td>\n      <td>0.013919</td>\n      <td>False</td>\n    </tr>\n    <tr>\n      <th>2</th>\n      <td>33.0</td>\n      <td>True</td>\n      <td>0.010880</td>\n      <td>False</td>\n    </tr>\n    <tr>\n      <th>4</th>\n      <td>30.0</td>\n      <td>True</td>\n      <td>0.010951</td>\n      <td>False</td>\n    </tr>\n    <tr>\n      <th>6</th>\n      <td>27.0</td>\n      <td>True</td>\n      <td>0.012108</td>\n      <td>True</td>\n    </tr>\n    <tr>\n      <th>8</th>\n      <td>37.0</td>\n      <td>True</td>\n      <td>0.009931</td>\n      <td>False</td>\n    </tr>\n    <tr>\n      <th>...</th>\n      <td>...</td>\n      <td>...</td>\n      <td>...</td>\n      <td>...</td>\n    </tr>\n    <tr>\n      <th>19990</th>\n      <td>33.0</td>\n      <td>True</td>\n      <td>0.012607</td>\n      <td>False</td>\n    </tr>\n    <tr>\n      <th>19992</th>\n      <td>27.0</td>\n      <td>True</td>\n      <td>0.011654</td>\n      <td>True</td>\n    </tr>\n    <tr>\n      <th>19994</th>\n      <td>36.0</td>\n      <td>True</td>\n      <td>0.011902</td>\n      <td>False</td>\n    </tr>\n    <tr>\n      <th>19996</th>\n      <td>34.0</td>\n      <td>True</td>\n      <td>0.013466</td>\n      <td>False</td>\n    </tr>\n    <tr>\n      <th>19998</th>\n      <td>27.0</td>\n      <td>True</td>\n      <td>0.011222</td>\n      <td>True</td>\n    </tr>\n  </tbody>\n</table>\n<p>10000 rows × 4 columns</p>\n</div>"
     },
     "metadata": {},
     "execution_count": 67
    }
   ],
   "source": [
    "game_df "
   ]
  },
  {
   "cell_type": "code",
   "execution_count": 79,
   "metadata": {},
   "outputs": [
    {
     "output_type": "execute_result",
     "data": {
      "text/plain": [
       "0.43434947200637575"
      ]
     },
     "metadata": {},
     "execution_count": 79
    }
   ],
   "source": [
    "p0advwon = p0stats[(p0stats['Won'] == False) &(diff == 0) & (game_df['Tie'] == False)]\n",
    "len(p0advwon) / len(diff[diff == 0])"
   ]
  },
  {
   "cell_type": "code",
   "execution_count": 44,
   "metadata": {},
   "outputs": [
    {
     "output_type": "execute_result",
     "data": {
      "text/plain": [
       "<AxesSubplot:xlabel='Turns'>"
      ]
     },
     "metadata": {},
     "execution_count": 44
    },
    {
     "output_type": "display_data",
     "data": {
      "text/plain": "<Figure size 432x288 with 1 Axes>",
      "image/svg+xml": "<?xml version=\"1.0\" encoding=\"utf-8\" standalone=\"no\"?>\n<!DOCTYPE svg PUBLIC \"-//W3C//DTD SVG 1.1//EN\"\n  \"http://www.w3.org/Graphics/SVG/1.1/DTD/svg11.dtd\">\n<!-- Created with matplotlib (https://matplotlib.org/) -->\n<svg height=\"262.19625pt\" version=\"1.1\" viewBox=\"0 0 358.040132 262.19625\" width=\"358.040132pt\" xmlns=\"http://www.w3.org/2000/svg\" xmlns:xlink=\"http://www.w3.org/1999/xlink\">\n <metadata>\n  <rdf:RDF xmlns:cc=\"http://creativecommons.org/ns#\" xmlns:dc=\"http://purl.org/dc/elements/1.1/\" xmlns:rdf=\"http://www.w3.org/1999/02/22-rdf-syntax-ns#\">\n   <cc:Work>\n    <dc:type rdf:resource=\"http://purl.org/dc/dcmitype/StillImage\"/>\n    <dc:date>2021-03-16T16:27:41.562544</dc:date>\n    <dc:format>image/svg+xml</dc:format>\n    <dc:creator>\n     <cc:Agent>\n      <dc:title>Matplotlib v3.3.1, https://matplotlib.org/</dc:title>\n     </cc:Agent>\n    </dc:creator>\n   </cc:Work>\n  </rdf:RDF>\n </metadata>\n <defs>\n  <style type=\"text/css\">*{stroke-linecap:butt;stroke-linejoin:round;}</style>\n </defs>\n <g id=\"figure_1\">\n  <g id=\"patch_1\">\n   <path d=\"M 0 262.19625 \nL 358.040132 262.19625 \nL 358.040132 0 \nL 0 0 \nz\n\" style=\"fill:none;\"/>\n  </g>\n  <g id=\"axes_1\">\n   <g id=\"patch_2\">\n    <path d=\"M 13.714988 224.64 \nL 348.514988 224.64 \nL 348.514988 7.2 \nL 13.714988 7.2 \nz\n\" style=\"fill:#ffffff;\"/>\n   </g>\n   <g id=\"PolyCollection_1\">\n    <defs>\n     <path d=\"M 28.93317 -134.504112 \nL 28.93317 -158.048388 \nL 32.00755 -162.5146 \nL 35.08193 -168.052878 \nL 38.15631 -174.668617 \nL 41.230691 -182.265662 \nL 44.305071 -190.627935 \nL 47.379451 -199.414554 \nL 50.453831 -208.172946 \nL 53.528211 -216.371639 \nL 56.602591 -223.450717 \nL 59.676972 -228.883855 \nL 62.751352 -232.242628 \nL 65.825732 -233.25225 \nL 68.900112 -231.828698 \nL 71.974492 -228.090255 \nL 75.048872 -222.341286 \nL 78.123253 -215.031315 \nL 81.197633 -206.697058 \nL 84.272013 -197.897743 \nL 87.346393 -189.154476 \nL 90.420773 -180.902483 \nL 93.495153 -173.461661 \nL 96.569534 -167.026759 \nL 99.643914 -161.674942 \nL 102.718294 -157.385918 \nL 105.792674 -154.068817 \nL 108.867054 -151.590259 \nL 111.941434 -149.799359 \nL 115.015815 -148.54712 \nL 118.090195 -147.699301 \nL 121.164575 -147.143234 \nL 124.238955 -146.789778 \nL 127.313335 -146.571969 \nL 130.387715 -146.44181 \nL 133.462096 -146.366365 \nL 136.536476 -146.323937 \nL 139.610856 -146.300784 \nL 142.685236 -146.288521 \nL 145.759616 -146.282217 \nL 148.833996 -146.279071 \nL 151.908377 -146.277547 \nL 154.982757 -146.276829 \nL 158.057137 -146.276502 \nL 161.131517 -146.276356 \nL 164.205897 -146.276294 \nL 167.280277 -146.276267 \nL 170.354658 -146.276257 \nL 173.429038 -146.276253 \nL 176.503418 -146.276251 \nL 179.577798 -146.27625 \nL 182.652178 -146.27625 \nL 185.726558 -146.276251 \nL 188.800939 -146.276253 \nL 191.875319 -146.276257 \nL 194.949699 -146.276267 \nL 198.024079 -146.276293 \nL 201.098459 -146.276356 \nL 204.172839 -146.2765 \nL 207.24722 -146.276825 \nL 210.3216 -146.277537 \nL 213.39598 -146.27905 \nL 216.47036 -146.282172 \nL 219.54474 -146.288428 \nL 222.61912 -146.300598 \nL 225.693501 -146.323576 \nL 228.767881 -146.365682 \nL 231.842261 -146.440557 \nL 234.916641 -146.56973 \nL 237.991021 -146.785889 \nL 241.065401 -147.13667 \nL 244.139781 -147.688527 \nL 247.214162 -148.529926 \nL 250.288542 -149.772685 \nL 253.362922 -151.550025 \nL 256.437302 -154.009818 \nL 259.511682 -157.301805 \nL 262.586062 -161.558355 \nL 265.660443 -166.869653 \nL 268.734823 -173.255834 \nL 271.809203 -180.64032 \nL 274.883583 -188.829835 \nL 277.957963 -197.506905 \nL 281.032343 -206.239598 \nL 284.106724 -214.510755 \nL 287.181104 -221.76538 \nL 290.255484 -227.470823 \nL 293.329864 -231.180961 \nL 296.404244 -232.593735 \nL 299.478624 -231.591756 \nL 302.553005 -228.258414 \nL 305.627385 -222.866411 \nL 308.701765 -215.840931 \nL 311.776145 -207.704312 \nL 314.850525 -199.012232 \nL 317.924905 -190.292138 \nL 320.999286 -181.993178 \nL 324.073666 -174.453652 \nL 327.148046 -167.888003 \nL 330.222426 -162.391656 \nL 333.296806 -157.959259 \nL 333.296806 -134.593241 \nL 333.296806 -134.593241 \nL 330.222426 -130.160844 \nL 327.148046 -124.664497 \nL 324.073666 -118.098848 \nL 320.999286 -110.559322 \nL 317.924905 -102.260362 \nL 314.850525 -93.540268 \nL 311.776145 -84.848188 \nL 308.701765 -76.711569 \nL 305.627385 -69.686089 \nL 302.553005 -64.294086 \nL 299.478624 -60.960744 \nL 296.404244 -59.958765 \nL 293.329864 -61.371539 \nL 290.255484 -65.081677 \nL 287.181104 -70.78712 \nL 284.106724 -78.041745 \nL 281.032343 -86.312902 \nL 277.957963 -95.045595 \nL 274.883583 -103.722665 \nL 271.809203 -111.91218 \nL 268.734823 -119.296666 \nL 265.660443 -125.682847 \nL 262.586062 -130.994145 \nL 259.511682 -135.250695 \nL 256.437302 -138.542682 \nL 253.362922 -141.002475 \nL 250.288542 -142.779815 \nL 247.214162 -144.022574 \nL 244.139781 -144.863973 \nL 241.065401 -145.41583 \nL 237.991021 -145.766611 \nL 234.916641 -145.98277 \nL 231.842261 -146.111943 \nL 228.767881 -146.186818 \nL 225.693501 -146.228924 \nL 222.61912 -146.251902 \nL 219.54474 -146.264072 \nL 216.47036 -146.270328 \nL 213.39598 -146.27345 \nL 210.3216 -146.274963 \nL 207.24722 -146.275675 \nL 204.172839 -146.276 \nL 201.098459 -146.276144 \nL 198.024079 -146.276207 \nL 194.949699 -146.276233 \nL 191.875319 -146.276243 \nL 188.800939 -146.276247 \nL 185.726558 -146.276249 \nL 182.652178 -146.27625 \nL 179.577798 -146.27625 \nL 176.503418 -146.276249 \nL 173.429038 -146.276247 \nL 170.354658 -146.276243 \nL 167.280277 -146.276233 \nL 164.205897 -146.276206 \nL 161.131517 -146.276144 \nL 158.057137 -146.275998 \nL 154.982757 -146.275671 \nL 151.908377 -146.274953 \nL 148.833996 -146.273429 \nL 145.759616 -146.270283 \nL 142.685236 -146.263979 \nL 139.610856 -146.251716 \nL 136.536476 -146.228563 \nL 133.462096 -146.186135 \nL 130.387715 -146.11069 \nL 127.313335 -145.980531 \nL 124.238955 -145.762722 \nL 121.164575 -145.409266 \nL 118.090195 -144.853199 \nL 115.015815 -144.00538 \nL 111.941434 -142.753141 \nL 108.867054 -140.962241 \nL 105.792674 -138.483683 \nL 102.718294 -135.166582 \nL 99.643914 -130.877558 \nL 96.569534 -125.525741 \nL 93.495153 -119.090839 \nL 90.420773 -111.650017 \nL 87.346393 -103.398024 \nL 84.272013 -94.654757 \nL 81.197633 -85.855442 \nL 78.123253 -77.521185 \nL 75.048872 -70.211214 \nL 71.974492 -64.462245 \nL 68.900112 -60.723802 \nL 65.825732 -59.30025 \nL 62.751352 -60.309872 \nL 59.676972 -63.668645 \nL 56.602591 -69.101783 \nL 53.528211 -76.180861 \nL 50.453831 -84.379554 \nL 47.379451 -93.137946 \nL 44.305071 -101.924565 \nL 41.230691 -110.286838 \nL 38.15631 -117.883883 \nL 35.08193 -124.499622 \nL 32.00755 -130.0379 \nL 28.93317 -134.504112 \nz\n\" id=\"m2ef76e7376\" style=\"stroke:#3f3f3f;stroke-width:1.5;\"/>\n    </defs>\n    <g clip-path=\"url(#p6f376f1737)\">\n     <use style=\"fill:#3274a1;stroke:#3f3f3f;stroke-width:1.5;\" x=\"0\" xlink:href=\"#m2ef76e7376\" y=\"262.19625\"/>\n    </g>\n   </g>\n   <g id=\"matplotlib.axis_1\">\n    <g id=\"xtick_1\">\n     <g id=\"line2d_1\">\n      <defs>\n       <path d=\"M 0 0 \nL 0 3.5 \n\" id=\"m7fe3795453\" style=\"stroke:#000000;stroke-width:0.8;\"/>\n      </defs>\n      <g>\n       <use style=\"stroke:#000000;stroke-width:0.8;\" x=\"19.341406\" xlink:href=\"#m7fe3795453\" y=\"224.64\"/>\n      </g>\n     </g>\n     <g id=\"text_1\">\n      <!-- −0.2 -->\n      <g transform=\"translate(7.2 239.238437)scale(0.1 -0.1)\">\n       <defs>\n        <path d=\"M 10.59375 35.5 \nL 73.1875 35.5 \nL 73.1875 27.203125 \nL 10.59375 27.203125 \nz\n\" id=\"DejaVuSans-8722\"/>\n        <path d=\"M 31.78125 66.40625 \nQ 24.171875 66.40625 20.328125 58.90625 \nQ 16.5 51.421875 16.5 36.375 \nQ 16.5 21.390625 20.328125 13.890625 \nQ 24.171875 6.390625 31.78125 6.390625 \nQ 39.453125 6.390625 43.28125 13.890625 \nQ 47.125 21.390625 47.125 36.375 \nQ 47.125 51.421875 43.28125 58.90625 \nQ 39.453125 66.40625 31.78125 66.40625 \nz\nM 31.78125 74.21875 \nQ 44.046875 74.21875 50.515625 64.515625 \nQ 56.984375 54.828125 56.984375 36.375 \nQ 56.984375 17.96875 50.515625 8.265625 \nQ 44.046875 -1.421875 31.78125 -1.421875 \nQ 19.53125 -1.421875 13.0625 8.265625 \nQ 6.59375 17.96875 6.59375 36.375 \nQ 6.59375 54.828125 13.0625 64.515625 \nQ 19.53125 74.21875 31.78125 74.21875 \nz\n\" id=\"DejaVuSans-48\"/>\n        <path d=\"M 10.6875 12.40625 \nL 21 12.40625 \nL 21 0 \nL 10.6875 0 \nz\n\" id=\"DejaVuSans-46\"/>\n        <path d=\"M 19.1875 8.296875 \nL 53.609375 8.296875 \nL 53.609375 0 \nL 7.328125 0 \nL 7.328125 8.296875 \nQ 12.9375 14.109375 22.625 23.890625 \nQ 32.328125 33.6875 34.8125 36.53125 \nQ 39.546875 41.84375 41.421875 45.53125 \nQ 43.3125 49.21875 43.3125 52.78125 \nQ 43.3125 58.59375 39.234375 62.25 \nQ 35.15625 65.921875 28.609375 65.921875 \nQ 23.96875 65.921875 18.8125 64.3125 \nQ 13.671875 62.703125 7.8125 59.421875 \nL 7.8125 69.390625 \nQ 13.765625 71.78125 18.9375 73 \nQ 24.125 74.21875 28.421875 74.21875 \nQ 39.75 74.21875 46.484375 68.546875 \nQ 53.21875 62.890625 53.21875 53.421875 \nQ 53.21875 48.921875 51.53125 44.890625 \nQ 49.859375 40.875 45.40625 35.40625 \nQ 44.1875 33.984375 37.640625 27.21875 \nQ 31.109375 20.453125 19.1875 8.296875 \nz\n\" id=\"DejaVuSans-50\"/>\n       </defs>\n       <use xlink:href=\"#DejaVuSans-8722\"/>\n       <use x=\"83.789062\" xlink:href=\"#DejaVuSans-48\"/>\n       <use x=\"147.412109\" xlink:href=\"#DejaVuSans-46\"/>\n       <use x=\"179.199219\" xlink:href=\"#DejaVuSans-50\"/>\n      </g>\n     </g>\n    </g>\n    <g id=\"xtick_2\">\n     <g id=\"line2d_2\">\n      <g>\n       <use style=\"stroke:#000000;stroke-width:0.8;\" x=\"65.56243\" xlink:href=\"#m7fe3795453\" y=\"224.64\"/>\n      </g>\n     </g>\n     <g id=\"text_2\">\n      <!-- 0.0 -->\n      <g transform=\"translate(57.610867 239.238437)scale(0.1 -0.1)\">\n       <use xlink:href=\"#DejaVuSans-48\"/>\n       <use x=\"63.623047\" xlink:href=\"#DejaVuSans-46\"/>\n       <use x=\"95.410156\" xlink:href=\"#DejaVuSans-48\"/>\n      </g>\n     </g>\n    </g>\n    <g id=\"xtick_3\">\n     <g id=\"line2d_3\">\n      <g>\n       <use style=\"stroke:#000000;stroke-width:0.8;\" x=\"111.783453\" xlink:href=\"#m7fe3795453\" y=\"224.64\"/>\n      </g>\n     </g>\n     <g id=\"text_3\">\n      <!-- 0.2 -->\n      <g transform=\"translate(103.831891 239.238437)scale(0.1 -0.1)\">\n       <use xlink:href=\"#DejaVuSans-48\"/>\n       <use x=\"63.623047\" xlink:href=\"#DejaVuSans-46\"/>\n       <use x=\"95.410156\" xlink:href=\"#DejaVuSans-50\"/>\n      </g>\n     </g>\n    </g>\n    <g id=\"xtick_4\">\n     <g id=\"line2d_4\">\n      <g>\n       <use style=\"stroke:#000000;stroke-width:0.8;\" x=\"158.004476\" xlink:href=\"#m7fe3795453\" y=\"224.64\"/>\n      </g>\n     </g>\n     <g id=\"text_4\">\n      <!-- 0.4 -->\n      <g transform=\"translate(150.052914 239.238437)scale(0.1 -0.1)\">\n       <defs>\n        <path d=\"M 37.796875 64.3125 \nL 12.890625 25.390625 \nL 37.796875 25.390625 \nz\nM 35.203125 72.90625 \nL 47.609375 72.90625 \nL 47.609375 25.390625 \nL 58.015625 25.390625 \nL 58.015625 17.1875 \nL 47.609375 17.1875 \nL 47.609375 0 \nL 37.796875 0 \nL 37.796875 17.1875 \nL 4.890625 17.1875 \nL 4.890625 26.703125 \nz\n\" id=\"DejaVuSans-52\"/>\n       </defs>\n       <use xlink:href=\"#DejaVuSans-48\"/>\n       <use x=\"63.623047\" xlink:href=\"#DejaVuSans-46\"/>\n       <use x=\"95.410156\" xlink:href=\"#DejaVuSans-52\"/>\n      </g>\n     </g>\n    </g>\n    <g id=\"xtick_5\">\n     <g id=\"line2d_5\">\n      <g>\n       <use style=\"stroke:#000000;stroke-width:0.8;\" x=\"204.2255\" xlink:href=\"#m7fe3795453\" y=\"224.64\"/>\n      </g>\n     </g>\n     <g id=\"text_5\">\n      <!-- 0.6 -->\n      <g transform=\"translate(196.273937 239.238437)scale(0.1 -0.1)\">\n       <defs>\n        <path d=\"M 33.015625 40.375 \nQ 26.375 40.375 22.484375 35.828125 \nQ 18.609375 31.296875 18.609375 23.390625 \nQ 18.609375 15.53125 22.484375 10.953125 \nQ 26.375 6.390625 33.015625 6.390625 \nQ 39.65625 6.390625 43.53125 10.953125 \nQ 47.40625 15.53125 47.40625 23.390625 \nQ 47.40625 31.296875 43.53125 35.828125 \nQ 39.65625 40.375 33.015625 40.375 \nz\nM 52.59375 71.296875 \nL 52.59375 62.3125 \nQ 48.875 64.0625 45.09375 64.984375 \nQ 41.3125 65.921875 37.59375 65.921875 \nQ 27.828125 65.921875 22.671875 59.328125 \nQ 17.53125 52.734375 16.796875 39.40625 \nQ 19.671875 43.65625 24.015625 45.921875 \nQ 28.375 48.1875 33.59375 48.1875 \nQ 44.578125 48.1875 50.953125 41.515625 \nQ 57.328125 34.859375 57.328125 23.390625 \nQ 57.328125 12.15625 50.6875 5.359375 \nQ 44.046875 -1.421875 33.015625 -1.421875 \nQ 20.359375 -1.421875 13.671875 8.265625 \nQ 6.984375 17.96875 6.984375 36.375 \nQ 6.984375 53.65625 15.1875 63.9375 \nQ 23.390625 74.21875 37.203125 74.21875 \nQ 40.921875 74.21875 44.703125 73.484375 \nQ 48.484375 72.75 52.59375 71.296875 \nz\n\" id=\"DejaVuSans-54\"/>\n       </defs>\n       <use xlink:href=\"#DejaVuSans-48\"/>\n       <use x=\"63.623047\" xlink:href=\"#DejaVuSans-46\"/>\n       <use x=\"95.410156\" xlink:href=\"#DejaVuSans-54\"/>\n      </g>\n     </g>\n    </g>\n    <g id=\"xtick_6\">\n     <g id=\"line2d_6\">\n      <g>\n       <use style=\"stroke:#000000;stroke-width:0.8;\" x=\"250.446523\" xlink:href=\"#m7fe3795453\" y=\"224.64\"/>\n      </g>\n     </g>\n     <g id=\"text_6\">\n      <!-- 0.8 -->\n      <g transform=\"translate(242.494961 239.238437)scale(0.1 -0.1)\">\n       <defs>\n        <path d=\"M 31.78125 34.625 \nQ 24.75 34.625 20.71875 30.859375 \nQ 16.703125 27.09375 16.703125 20.515625 \nQ 16.703125 13.921875 20.71875 10.15625 \nQ 24.75 6.390625 31.78125 6.390625 \nQ 38.8125 6.390625 42.859375 10.171875 \nQ 46.921875 13.96875 46.921875 20.515625 \nQ 46.921875 27.09375 42.890625 30.859375 \nQ 38.875 34.625 31.78125 34.625 \nz\nM 21.921875 38.8125 \nQ 15.578125 40.375 12.03125 44.71875 \nQ 8.5 49.078125 8.5 55.328125 \nQ 8.5 64.0625 14.71875 69.140625 \nQ 20.953125 74.21875 31.78125 74.21875 \nQ 42.671875 74.21875 48.875 69.140625 \nQ 55.078125 64.0625 55.078125 55.328125 \nQ 55.078125 49.078125 51.53125 44.71875 \nQ 48 40.375 41.703125 38.8125 \nQ 48.828125 37.15625 52.796875 32.3125 \nQ 56.78125 27.484375 56.78125 20.515625 \nQ 56.78125 9.90625 50.3125 4.234375 \nQ 43.84375 -1.421875 31.78125 -1.421875 \nQ 19.734375 -1.421875 13.25 4.234375 \nQ 6.78125 9.90625 6.78125 20.515625 \nQ 6.78125 27.484375 10.78125 32.3125 \nQ 14.796875 37.15625 21.921875 38.8125 \nz\nM 18.3125 54.390625 \nQ 18.3125 48.734375 21.84375 45.5625 \nQ 25.390625 42.390625 31.78125 42.390625 \nQ 38.140625 42.390625 41.71875 45.5625 \nQ 45.3125 48.734375 45.3125 54.390625 \nQ 45.3125 60.0625 41.71875 63.234375 \nQ 38.140625 66.40625 31.78125 66.40625 \nQ 25.390625 66.40625 21.84375 63.234375 \nQ 18.3125 60.0625 18.3125 54.390625 \nz\n\" id=\"DejaVuSans-56\"/>\n       </defs>\n       <use xlink:href=\"#DejaVuSans-48\"/>\n       <use x=\"63.623047\" xlink:href=\"#DejaVuSans-46\"/>\n       <use x=\"95.410156\" xlink:href=\"#DejaVuSans-56\"/>\n      </g>\n     </g>\n    </g>\n    <g id=\"xtick_7\">\n     <g id=\"line2d_7\">\n      <g>\n       <use style=\"stroke:#000000;stroke-width:0.8;\" x=\"296.667547\" xlink:href=\"#m7fe3795453\" y=\"224.64\"/>\n      </g>\n     </g>\n     <g id=\"text_7\">\n      <!-- 1.0 -->\n      <g transform=\"translate(288.715984 239.238437)scale(0.1 -0.1)\">\n       <defs>\n        <path d=\"M 12.40625 8.296875 \nL 28.515625 8.296875 \nL 28.515625 63.921875 \nL 10.984375 60.40625 \nL 10.984375 69.390625 \nL 28.421875 72.90625 \nL 38.28125 72.90625 \nL 38.28125 8.296875 \nL 54.390625 8.296875 \nL 54.390625 0 \nL 12.40625 0 \nz\n\" id=\"DejaVuSans-49\"/>\n       </defs>\n       <use xlink:href=\"#DejaVuSans-49\"/>\n       <use x=\"63.623047\" xlink:href=\"#DejaVuSans-46\"/>\n       <use x=\"95.410156\" xlink:href=\"#DejaVuSans-48\"/>\n      </g>\n     </g>\n    </g>\n    <g id=\"xtick_8\">\n     <g id=\"line2d_8\">\n      <g>\n       <use style=\"stroke:#000000;stroke-width:0.8;\" x=\"342.88857\" xlink:href=\"#m7fe3795453\" y=\"224.64\"/>\n      </g>\n     </g>\n     <g id=\"text_8\">\n      <!-- 1.2 -->\n      <g transform=\"translate(334.937007 239.238437)scale(0.1 -0.1)\">\n       <use xlink:href=\"#DejaVuSans-49\"/>\n       <use x=\"63.623047\" xlink:href=\"#DejaVuSans-46\"/>\n       <use x=\"95.410156\" xlink:href=\"#DejaVuSans-50\"/>\n      </g>\n     </g>\n    </g>\n    <g id=\"text_9\">\n     <!-- Turns -->\n     <g transform=\"translate(167.907176 252.916562)scale(0.1 -0.1)\">\n      <defs>\n       <path d=\"M -0.296875 72.90625 \nL 61.375 72.90625 \nL 61.375 64.59375 \nL 35.5 64.59375 \nL 35.5 0 \nL 25.59375 0 \nL 25.59375 64.59375 \nL -0.296875 64.59375 \nz\n\" id=\"DejaVuSans-84\"/>\n       <path d=\"M 8.5 21.578125 \nL 8.5 54.6875 \nL 17.484375 54.6875 \nL 17.484375 21.921875 \nQ 17.484375 14.15625 20.5 10.265625 \nQ 23.53125 6.390625 29.59375 6.390625 \nQ 36.859375 6.390625 41.078125 11.03125 \nQ 45.3125 15.671875 45.3125 23.6875 \nL 45.3125 54.6875 \nL 54.296875 54.6875 \nL 54.296875 0 \nL 45.3125 0 \nL 45.3125 8.40625 \nQ 42.046875 3.421875 37.71875 1 \nQ 33.40625 -1.421875 27.6875 -1.421875 \nQ 18.265625 -1.421875 13.375 4.4375 \nQ 8.5 10.296875 8.5 21.578125 \nz\nM 31.109375 56 \nz\n\" id=\"DejaVuSans-117\"/>\n       <path d=\"M 41.109375 46.296875 \nQ 39.59375 47.171875 37.8125 47.578125 \nQ 36.03125 48 33.890625 48 \nQ 26.265625 48 22.1875 43.046875 \nQ 18.109375 38.09375 18.109375 28.8125 \nL 18.109375 0 \nL 9.078125 0 \nL 9.078125 54.6875 \nL 18.109375 54.6875 \nL 18.109375 46.1875 \nQ 20.953125 51.171875 25.484375 53.578125 \nQ 30.03125 56 36.53125 56 \nQ 37.453125 56 38.578125 55.875 \nQ 39.703125 55.765625 41.0625 55.515625 \nz\n\" id=\"DejaVuSans-114\"/>\n       <path d=\"M 54.890625 33.015625 \nL 54.890625 0 \nL 45.90625 0 \nL 45.90625 32.71875 \nQ 45.90625 40.484375 42.875 44.328125 \nQ 39.84375 48.1875 33.796875 48.1875 \nQ 26.515625 48.1875 22.3125 43.546875 \nQ 18.109375 38.921875 18.109375 30.90625 \nL 18.109375 0 \nL 9.078125 0 \nL 9.078125 54.6875 \nL 18.109375 54.6875 \nL 18.109375 46.1875 \nQ 21.34375 51.125 25.703125 53.5625 \nQ 30.078125 56 35.796875 56 \nQ 45.21875 56 50.046875 50.171875 \nQ 54.890625 44.34375 54.890625 33.015625 \nz\n\" id=\"DejaVuSans-110\"/>\n       <path d=\"M 44.28125 53.078125 \nL 44.28125 44.578125 \nQ 40.484375 46.53125 36.375 47.5 \nQ 32.28125 48.484375 27.875 48.484375 \nQ 21.1875 48.484375 17.84375 46.4375 \nQ 14.5 44.390625 14.5 40.28125 \nQ 14.5 37.15625 16.890625 35.375 \nQ 19.28125 33.59375 26.515625 31.984375 \nL 29.59375 31.296875 \nQ 39.15625 29.25 43.1875 25.515625 \nQ 47.21875 21.78125 47.21875 15.09375 \nQ 47.21875 7.46875 41.1875 3.015625 \nQ 35.15625 -1.421875 24.609375 -1.421875 \nQ 20.21875 -1.421875 15.453125 -0.5625 \nQ 10.6875 0.296875 5.421875 2 \nL 5.421875 11.28125 \nQ 10.40625 8.6875 15.234375 7.390625 \nQ 20.0625 6.109375 24.8125 6.109375 \nQ 31.15625 6.109375 34.5625 8.28125 \nQ 37.984375 10.453125 37.984375 14.40625 \nQ 37.984375 18.0625 35.515625 20.015625 \nQ 33.0625 21.96875 24.703125 23.78125 \nL 21.578125 24.515625 \nQ 13.234375 26.265625 9.515625 29.90625 \nQ 5.8125 33.546875 5.8125 39.890625 \nQ 5.8125 47.609375 11.28125 51.796875 \nQ 16.75 56 26.8125 56 \nQ 31.78125 56 36.171875 55.265625 \nQ 40.578125 54.546875 44.28125 53.078125 \nz\n\" id=\"DejaVuSans-115\"/>\n      </defs>\n      <use xlink:href=\"#DejaVuSans-84\"/>\n      <use x=\"45.958984\" xlink:href=\"#DejaVuSans-117\"/>\n      <use x=\"109.337891\" xlink:href=\"#DejaVuSans-114\"/>\n      <use x=\"148.701172\" xlink:href=\"#DejaVuSans-110\"/>\n      <use x=\"212.080078\" xlink:href=\"#DejaVuSans-115\"/>\n     </g>\n    </g>\n   </g>\n   <g id=\"matplotlib.axis_2\">\n    <g id=\"ytick_1\">\n     <g id=\"line2d_9\">\n      <defs>\n       <path d=\"M 0 0 \nL -3.5 0 \n\" id=\"m695fcf5685\" style=\"stroke:#000000;stroke-width:0.8;\"/>\n      </defs>\n      <g>\n       <use style=\"stroke:#000000;stroke-width:0.8;\" x=\"13.714988\" xlink:href=\"#m695fcf5685\" y=\"115.92\"/>\n      </g>\n     </g>\n    </g>\n   </g>\n   <g id=\"line2d_10\">\n    <path clip-path=\"url(#p6f376f1737)\" d=\"M 65.56243 115.92 \nL 296.667547 115.92 \n\" style=\"fill:none;stroke:#3f3f3f;stroke-linecap:square;stroke-width:1.5;\"/>\n   </g>\n   <g id=\"line2d_11\">\n    <path clip-path=\"url(#p6f376f1737)\" d=\"M 65.56243 115.92 \nL 296.667547 115.92 \n\" style=\"fill:none;stroke:#3f3f3f;stroke-linecap:square;stroke-width:4.5;\"/>\n   </g>\n   <g id=\"patch_3\">\n    <path d=\"M 13.714988 224.64 \nL 13.714988 7.2 \n\" style=\"fill:none;stroke:#000000;stroke-linecap:square;stroke-linejoin:miter;stroke-width:0.8;\"/>\n   </g>\n   <g id=\"patch_4\">\n    <path d=\"M 348.514988 224.64 \nL 348.514988 7.2 \n\" style=\"fill:none;stroke:#000000;stroke-linecap:square;stroke-linejoin:miter;stroke-width:0.8;\"/>\n   </g>\n   <g id=\"patch_5\">\n    <path d=\"M 13.714988 224.64 \nL 348.514988 224.64 \n\" style=\"fill:none;stroke:#000000;stroke-linecap:square;stroke-linejoin:miter;stroke-width:0.8;\"/>\n   </g>\n   <g id=\"patch_6\">\n    <path d=\"M 13.714988 7.2 \nL 348.514988 7.2 \n\" style=\"fill:none;stroke:#000000;stroke-linecap:square;stroke-linejoin:miter;stroke-width:0.8;\"/>\n   </g>\n   <g id=\"PathCollection_1\">\n    <defs>\n     <path d=\"M 0 1.5 \nC 0.397805 1.5 0.77937 1.341951 1.06066 1.06066 \nC 1.341951 0.77937 1.5 0.397805 1.5 0 \nC 1.5 -0.397805 1.341951 -0.77937 1.06066 -1.06066 \nC 0.77937 -1.341951 0.397805 -1.5 0 -1.5 \nC -0.397805 -1.5 -0.77937 -1.341951 -1.06066 -1.06066 \nC -1.341951 -0.77937 -1.5 -0.397805 -1.5 0 \nC -1.5 0.397805 -1.341951 0.77937 -1.06066 1.06066 \nC -0.77937 1.341951 -0.397805 1.5 0 1.5 \nz\n\" id=\"meab8411ec7\" style=\"stroke:#3f3f3f;\"/>\n    </defs>\n    <g clip-path=\"url(#p6f376f1737)\">\n     <use style=\"fill:#ffffff;stroke:#3f3f3f;\" x=\"65.56243\" xlink:href=\"#meab8411ec7\" y=\"115.92\"/>\n    </g>\n   </g>\n  </g>\n </g>\n <defs>\n  <clipPath id=\"p6f376f1737\">\n   <rect height=\"217.44\" width=\"334.8\" x=\"13.714988\" y=\"7.2\"/>\n  </clipPath>\n </defs>\n</svg>\n",
      "image/png": "[encoded data removed]"
     },
     "metadata": {
      "needs_background": "light"
     }
    }
   ],
   "source": [
    "sns.violinplot(x=diff)"
   ]
  },
  {
   "source": [
    "In 10k games between BM BM, we have 43.34%/32.12%/24.54% WLT split for random starting split. 43.36%/31.96%/24.68% for 2/5 split. 42.85%/32.18%/24.97% for 3/4 split. Corresponds to starting advantage of 11.22%, 11.4%, 10.67%, resp. \n",
    "\n",
    "* Why is the starting advantage 10%? \n",
    "* Why does 2/5 not have as large an advantage as 3/4? "
   ],
   "cell_type": "markdown",
   "metadata": {}
  },
  {
   "cell_type": "code",
   "execution_count": null,
   "metadata": {},
   "outputs": [],
   "source": []
  },
  {
   "source": [
    "## MLP Simulations ##"
   ],
   "cell_type": "markdown",
   "metadata": {}
  },
  {
   "cell_type": "code",
   "execution_count": 4,
   "metadata": {},
   "outputs": [],
   "source": [
    "model_name = 'r-r-mcts-10k-score'\n",
    "model_path = os.path.join(model_dir, model_name)\n",
    "model = torch.load(model_path, map_location='cpu')\n",
    "model"
   ]
  },
  {
   "cell_type": "code",
   "execution_count": 114,
   "metadata": {},
   "outputs": [],
   "source": [
    "config = GameConfig(split=StartingSplit.StartingRandomSplit, sandbox=True, num_players=2)\n",
    "players = load_players(['MLP', 'BM'], [model_path], map_location='cpu', train=False)\n",
    "agent = players[0]\n",
    "env = DefaultEnvironment(config, players, logger=logger)"
   ]
  },
  {
   "cell_type": "code",
   "execution_count": 117,
   "metadata": {},
   "outputs": [
    {
     "output_type": "stream",
     "name": "stderr",
     "text": [
      "  0%|          | 0/1 [00:00<?, ?it/s]BUY:root:Player 0, Turn 0: Estate\n",
      "BUY:root:Player 1, Turn 1: Silver\n",
      "BUY:root:Player 0, Turn 1: Estate\n",
      "BUY:root:Player 1, Turn 2: Silver\n",
      "BUY:root:Player 0, Turn 2: Estate\n",
      "BUY:root:Player 1, Turn 3: Gold\n",
      "BUY:root:Player 0, Turn 3: Estate\n",
      "BUY:root:Player 1, Turn 4: Silver\n",
      "BUY:root:Player 0, Turn 4: Estate\n",
      "BUY:root:Player 1, Turn 5: Silver\n",
      "BUY:root:Player 0, Turn 5: None\n",
      "BUY:root:Player 1, Turn 6: Gold\n",
      "BUY:root:Player 0, Turn 6: Estate\n",
      "BUY:root:Player 1, Turn 7: Gold\n",
      "BUY:root:Player 0, Turn 7: Copper\n",
      "BUY:root:Player 1, Turn 8: Gold\n",
      "BUY:root:Player 0, Turn 8: Estate\n",
      "BUY:root:Player 1, Turn 9: Silver\n",
      "BUY:root:Player 0, Turn 9: Estate\n",
      "BUY:root:Player 1, Turn 10: Silver\n",
      "BUY:root:Player 0, Turn 10: Copper\n",
      "BUY:root:Player 1, Turn 11: Province\n",
      "BUY:root:Player 0, Turn 11: Copper\n",
      "BUY:root:Player 1, Turn 12: Gold\n",
      "BUY:root:Player 0, Turn 12: Silver\n",
      "BUY:root:Player 1, Turn 13: Province\n",
      "BUY:root:Player 0, Turn 13: Copper\n",
      "BUY:root:Player 1, Turn 14: Gold\n",
      "BUY:root:Player 0, Turn 14: Copper\n",
      "BUY:root:Player 1, Turn 15: Gold\n",
      "BUY:root:Player 0, Turn 15: Silver\n",
      "BUY:root:Player 1, Turn 16: Province\n",
      "BUY:root:Player 0, Turn 16: Silver\n",
      "BUY:root:Player 1, Turn 17: Province\n",
      "BUY:root:Player 0, Turn 17: Copper\n",
      "BUY:root:Player 1, Turn 18: Province\n",
      "BUY:root:Player 0, Turn 18: Silver\n",
      "BUY:root:Player 1, Turn 19: Province\n",
      "BUY:root:Player 0, Turn 19: Copper\n",
      "BUY:root:Player 1, Turn 20: Gold\n",
      "BUY:root:Player 0, Turn 20: Copper\n",
      "BUY:root:Player 1, Turn 21: Province\n",
      "BUY:root:Player 0, Turn 21: Copper\n",
      "BUY:root:Player 1, Turn 22: Gold\n",
      "BUY:root:Player 0, Turn 22: Copper\n",
      "BUY:root:Player 1, Turn 23: Province\n",
      "100%|██████████| 1/1 [00:00<00:00, 21.24it/s]===SUMMARY===\n",
      "{0: 0, 1: 1, 'ProvinceWins': 1, 'Ties': 0}\n",
      "\n"
     ]
    },
    {
     "output_type": "execute_result",
     "data": {
      "text/plain": [
       "<simulationdata.SimulationData at 0x7fb372a06970>"
      ]
     },
     "metadata": {},
     "execution_count": 117
    }
   ],
   "source": [
    "simulate(env, 1, None)"
   ]
  },
  {
   "source": [
    "Let's analyze the neural network outputs for some simple cases."
   ],
   "cell_type": "markdown",
   "metadata": {}
  },
  {
   "cell_type": "code",
   "execution_count": 20,
   "metadata": {},
   "outputs": [],
   "source": [
    "from state import ReducedStateFeature"
   ]
  },
  {
   "cell_type": "code",
   "execution_count": 21,
   "metadata": {},
   "outputs": [],
   "source": [
    "skip = ReducedStateFeature.default_sandbox_feature()\n",
    "copper = ReducedStateFeature.default_sandbox_feature()\n",
    "silver = ReducedStateFeature.default_sandbox_feature()\n",
    "estate = ReducedStateFeature.default_sandbox_feature()"
   ]
  },
  {
   "cell_type": "code",
   "execution_count": 22,
   "metadata": {},
   "outputs": [
    {
     "output_type": "execute_result",
     "data": {
      "text/plain": [
       "tensor([45., 10.,  8.,  8.,  8., 40., 30.,  8.,  0.,  3.,  0.,  0.,  0.,  0.,\n",
       "         7.,  0.,  3.,  0.,  0.,  0.,  0.])"
      ]
     },
     "metadata": {},
     "execution_count": 22
    }
   ],
   "source": [
    "copper[0] = 45\n",
    "copper[7] = 8\n",
    "copper"
   ]
  },
  {
   "cell_type": "code",
   "execution_count": 23,
   "metadata": {},
   "outputs": [
    {
     "output_type": "execute_result",
     "data": {
      "text/plain": [
       "tensor([46., 10.,  8.,  8.,  8., 39., 30.,  7.,  0.,  3.,  0.,  0.,  1.,  0.,\n",
       "         7.,  0.,  3.,  0.,  0.,  0.,  0.])"
      ]
     },
     "metadata": {},
     "execution_count": 23
    }
   ],
   "source": [
    "silver[5] = 39\n",
    "silver[7+5] = 1\n",
    "silver"
   ]
  },
  {
   "cell_type": "code",
   "execution_count": 24,
   "metadata": {},
   "outputs": [
    {
     "output_type": "execute_result",
     "data": {
      "text/plain": [
       "tensor([46., 10.,  7.,  8.,  8., 40., 30.,  7.,  0.,  4.,  0.,  0.,  0.,  0.,\n",
       "         7.,  0.,  3.,  0.,  0.,  0.,  0.])"
      ]
     },
     "metadata": {},
     "execution_count": 24
    }
   ],
   "source": [
    "estate[2] = 7\n",
    "estate[7+2] = 4\n",
    "estate"
   ]
  },
  {
   "cell_type": "code",
   "execution_count": 54,
   "metadata": {},
   "outputs": [
    {
     "output_type": "error",
     "ename": "TypeError",
     "evalue": "'LogisticRegression' object is not callable",
     "traceback": [
      "\u001b[0;31m---------------------------------------------------------------------------\u001b[0m",
      "\u001b[0;31mTypeError\u001b[0m                                 Traceback (most recent call last)",
      "\u001b[0;32m<ipython-input-54-0665552ed039>\u001b[0m in \u001b[0;36m<module>\u001b[0;34m\u001b[0m\n\u001b[0;32m----> 1\u001b[0;31m \u001b[0magent\u001b[0m\u001b[0;34m.\u001b[0m\u001b[0mmodel\u001b[0m\u001b[0;34m(\u001b[0m\u001b[0mcopper\u001b[0m\u001b[0;34m)\u001b[0m\u001b[0;34m,\u001b[0m \u001b[0magent\u001b[0m\u001b[0;34m.\u001b[0m\u001b[0mmodel\u001b[0m\u001b[0;34m(\u001b[0m\u001b[0msilver\u001b[0m\u001b[0;34m)\u001b[0m\u001b[0;34m,\u001b[0m \u001b[0magent\u001b[0m\u001b[0;34m.\u001b[0m\u001b[0mmodel\u001b[0m\u001b[0;34m(\u001b[0m\u001b[0mestate\u001b[0m\u001b[0;34m)\u001b[0m\u001b[0;34m\u001b[0m\u001b[0;34m\u001b[0m\u001b[0m\n\u001b[0m",
      "\u001b[0;31mTypeError\u001b[0m: 'LogisticRegression' object is not callable"
     ]
    }
   ],
   "source": [
    "agent.model(copper), agent.model(silver), agent.model(estate)"
   ]
  },
  {
   "source": [
    "## Tree Simulations ##"
   ],
   "cell_type": "markdown",
   "metadata": {}
  },
  {
   "cell_type": "code",
   "execution_count": 5,
   "metadata": {},
   "outputs": [],
   "source": [
    "from mcts import GameTree"
   ]
  },
  {
   "cell_type": "code",
   "execution_count": 22,
   "metadata": {},
   "outputs": [],
   "source": [
    "tree_name = 'default-r-r-mcts'\n",
    "tree_path = os.path.join(model_dir, tree_name)\n",
    "rollout_name = 'default-mlog'\n",
    "rollout_path = os.path.join(model_dir, rollout_name)"
   ]
  },
  {
   "cell_type": "code",
   "execution_count": 10,
   "metadata": {},
   "outputs": [],
   "source": [
    "tree_name = 'r-r-mcts-bm-100k-srat-base-default-ucb1-cdecay'\n",
    "rollout_name = 'mlog-10k-base-default-bm'\n",
    "tree_path = os.path.join(model_dir, tree_name)\n",
    "rollout_path = os.path.join(model_dir, rollout_name)"
   ]
  },
  {
   "cell_type": "code",
   "execution_count": 11,
   "metadata": {},
   "outputs": [],
   "source": [
    "tree = GameTree.load(tree_path, train=False, _skip_level=False, selection='max')"
   ]
  },
  {
   "cell_type": "code",
   "execution_count": 42,
   "metadata": {},
   "outputs": [
    {
     "output_type": "execute_result",
     "data": {
      "text/plain": [
       "'secure'"
      ]
     },
     "metadata": {},
     "execution_count": 42
    }
   ],
   "source": [
    "tree.selection = 'secure'\n",
    "tree.selection"
   ]
  },
  {
   "cell_type": "code",
   "execution_count": 121,
   "metadata": {},
   "outputs": [
    {
     "output_type": "execute_result",
     "data": {
      "text/plain": [
       "Parent: Militia << (n: 1877, v: 1269.0, Q: 0.676 c: Witch) >> Children: [(0, 'Copper', '141', '0.177'), (1, 'Estate', '80', '0.025'), (2, 'Silver', '310', '0.329'), (3, 'Chapel', '503', '0.397'), (4, 'Moat', '538', '0.404'), (5, 'Village', '143', '0.199'), (6, 'None', '161', '0.208')]"
      ]
     },
     "metadata": {},
     "execution_count": 121
    }
   ],
   "source": [
    "tree._root.children[2].children[6].children[14]"
   ]
  },
  {
   "cell_type": "code",
   "execution_count": 12,
   "metadata": {},
   "outputs": [],
   "source": [
    "# config = GameConfig(splits=[StartingSplit.Starting25Split, StartingSplit.Starting25Split], sandbox=True, num_players=2)\n",
    "# splits = [StartingSplit.Starting25Split, StartingSplit.Starting25Split]\n",
    "splits = [StartingSplit.StartingRandomSplit, StartingSplit.StartingRandomSplit]\n",
    "config = GameConfig(splits=splits, sandbox=False, num_players=2, must_include=default_kingdom)\n",
    "players = load_players(['UCT', 'DW'], [rollout_path], tree=tree, train=False, rollout_type='mlog', use_tree=True)\n",
    "# agent = load_players(['UCT'], [rollout_path], tree=tree, train=False, rollout_type='mlog', use_tree=False)[0]\n",
    "# players = [agent, agent]\n",
    "env = DefaultEnvironment(config, players, logger=logger)"
   ]
  },
  {
   "cell_type": "code",
   "execution_count": 21,
   "metadata": {},
   "outputs": [],
   "source": [
    "logger.setLevel(logging.ERROR)\n",
    "# logger.setLevel(BUY)"
   ]
  },
  {
   "cell_type": "code",
   "execution_count": 23,
   "metadata": {
    "tags": []
   },
   "outputs": [
    {
     "output_type": "stream",
     "name": "stderr",
     "text": [
      "100%|██████████| 1000/1000 [00:24<00:00, 40.35it/s]===SUMMARY===\n",
      "{0: 593, 1: 437, 'ProvinceWins': 994, 'Ties': 30}\n",
      "\n"
     ]
    }
   ],
   "source": [
    "sim_data = simulate(env, 1000, tree)"
   ]
  },
  {
   "cell_type": "code",
   "execution_count": 12,
   "metadata": {},
   "outputs": [
    {
     "output_type": "execute_result",
     "data": {
      "text/plain": [
       "   MaxScore  ProvinceWin  TimeElapsed    Tie\n",
       "0      40.0         True      0.06635  False"
      ],
      "text/html": "<div>\n<style scoped>\n    .dataframe tbody tr th:only-of-type {\n        vertical-align: middle;\n    }\n\n    .dataframe tbody tr th {\n        vertical-align: top;\n    }\n\n    .dataframe thead th {\n        text-align: right;\n    }\n</style>\n<table border=\"1\" class=\"dataframe\">\n  <thead>\n    <tr style=\"text-align: right;\">\n      <th></th>\n      <th>MaxScore</th>\n      <th>ProvinceWin</th>\n      <th>TimeElapsed</th>\n      <th>Tie</th>\n    </tr>\n  </thead>\n  <tbody>\n    <tr>\n      <th>0</th>\n      <td>40.0</td>\n      <td>True</td>\n      <td>0.06635</td>\n      <td>False</td>\n    </tr>\n  </tbody>\n</table>\n</div>"
     },
     "metadata": {},
     "execution_count": 12
    }
   ],
   "source": [
    "sim_data.game_df"
   ]
  },
  {
   "cell_type": "code",
   "execution_count": 97,
   "metadata": {},
   "outputs": [],
   "source": [
    "data_dir = os.path.join(project_root, 'data')\n",
    "data_name ='bm25-bm25-10k-scores'\n",
    "data_path = os.path.join(data_dir, data_name)"
   ]
  },
  {
   "cell_type": "code",
   "execution_count": 98,
   "metadata": {},
   "outputs": [],
   "source": [
    "save(data_path, sim_data.player_df)"
   ]
  }
 ]
}