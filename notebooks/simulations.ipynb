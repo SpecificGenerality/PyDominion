{
 "metadata": {
  "language_info": {
   "codemirror_mode": {
    "name": "ipython",
    "version": 3
   },
   "file_extension": ".py",
   "mimetype": "text/x-python",
   "name": "python",
   "nbconvert_exporter": "python",
   "pygments_lexer": "ipython3",
   "version": "3.8.5-final"
  },
  "orig_nbformat": 2,
  "kernelspec": {
   "name": "python385jvsc74a57bd0b9d92e466e4b691ba48e3b99437a968eb61063b4bdb477b015d553c3bed5fbd9",
   "display_name": "Python 3.8.5 64-bit"
  },
  "metadata": {
   "interpreter": {
    "hash": "b9d92e466e4b691ba48e3b99437a968eb61063b4bdb477b015d553c3bed5fbd9"
   }
  }
 },
 "nbformat": 4,
 "nbformat_minor": 2,
 "cells": [
  {
   "cell_type": "code",
   "execution_count": 1,
   "metadata": {},
   "outputs": [],
   "source": [
    "%load_ext autoreload\n",
    "%autoreload 2"
   ]
  },
  {
   "cell_type": "code",
   "execution_count": 4,
   "metadata": {},
   "outputs": [],
   "source": [
    "import os\n",
    "import logging\n",
    "\n",
    "from actioncard import Chapel, Moat, Village, Militia, Moneylender, Smithy, CouncilRoom, Laboratory, Market, Witch\n",
    "from aiutils import load, save\n",
    "from config import GameConfig\n",
    "from constants import ACTION, BUY\n",
    "from enums import StartingSplit\n",
    "from env import DefaultEnvironment, FullEnvironment\n",
    "from player import load_players\n",
    "from simulations import simulate"
   ]
  },
  {
   "cell_type": "code",
   "execution_count": 5,
   "metadata": {},
   "outputs": [],
   "source": [
    "default_kingdom = [Chapel, Moat, Village, Militia, Moneylender, Smithy, CouncilRoom, Laboratory, Market, Witch]"
   ]
  },
  {
   "cell_type": "code",
   "execution_count": 6,
   "metadata": {},
   "outputs": [],
   "source": [
    "project_root = '/home/justiny/Documents/Projects/PyDominion'\n",
    "# project_root = '/home/justiny/Princeton/PyDominion'\n",
    "model_dir = os.path.join(project_root, 'models')"
   ]
  },
  {
   "cell_type": "code",
   "execution_count": 7,
   "metadata": {},
   "outputs": [],
   "source": [
    "logger = logging.getLogger()\n",
    "logger.setLevel(logging.ERROR)\n",
    "# logger.setLevel(BUY)\n",
    "# logger.setLevel(ACTION)"
   ]
  },
  {
   "source": [
    "## Rule-Based Bots ##"
   ],
   "cell_type": "markdown",
   "metadata": {}
  },
  {
   "cell_type": "code",
   "execution_count": 90,
   "metadata": {},
   "outputs": [],
   "source": [
    "config = GameConfig(splits=[StartingSplit.StartingRandomSplit, StartingSplit.StartingRandomSplit], sandbox=True, num_players=2, must_include=[])\n",
    "players = load_players(['BM', 'BM'], None, map_location='cpu', train=False)\n",
    "agent = players[0]\n",
    "env = FullEnvironment(config, players, logger=logger)"
   ]
  },
  {
   "cell_type": "code",
   "execution_count": 91,
   "metadata": {},
   "outputs": [],
   "source": [
    "n = 10000"
   ]
  },
  {
   "cell_type": "code",
   "execution_count": 92,
   "metadata": {},
   "outputs": [
    {
     "output_type": "stream",
     "name": "stderr",
     "text": [
      "100%|██████████| 10000/10000 [03:08<00:00, 53.01it/s]\n",
      "===SUMMARY===\n",
      "{0: 5716, 1: 5574, 'ProvinceWins': 10000, 'Ties': 1290}\n"
     ]
    }
   ],
   "source": [
    "sim_stats = simulate(env, n, None, turn_log=True, action_log=True)"
   ]
  },
  {
   "cell_type": "code",
   "execution_count": 95,
   "metadata": {},
   "outputs": [],
   "source": [
    "data_path = os.path.join(project_root, 'data', 'bm-bm-10k-stats')"
   ]
  },
  {
   "cell_type": "code",
   "execution_count": 96,
   "metadata": {},
   "outputs": [],
   "source": [
    "save(data_path, sim_stats)"
   ]
  },
  {
   "source": [
    "## Tree Simulations ##"
   ],
   "cell_type": "markdown",
   "metadata": {}
  },
  {
   "cell_type": "code",
   "execution_count": 15,
   "metadata": {},
   "outputs": [],
   "source": [
    "from mcts import GameTree"
   ]
  },
  {
   "cell_type": "code",
   "execution_count": 46,
   "metadata": {},
   "outputs": [],
   "source": [
    "# tree_name = 'full-paper-tree-uniform'\n",
    "tree_name = 'r-r-mcts-bm-full-100k-srat-uniform-paper'\n",
    "tree_path = os.path.join(model_dir, tree_name)\n",
    "rollout_name = 'default-mlog-full-paper'\n",
    "rollout_path = os.path.join(model_dir, rollout_name)"
   ]
  },
  {
   "cell_type": "code",
   "execution_count": 38,
   "metadata": {},
   "outputs": [],
   "source": [
    "# tree_name = 'default-sandbox-uct-paper'\n",
    "# tree_name = 'default-sandbox-uct-paper'\n",
    "# tree_name = 'r-r-mcts-bm-hot-start-sandbox-100k-srat-uniform'\n",
    "rollout_name = 'default-mlog-sandbox-paper'\n",
    "tree_path = os.path.join(model_dir, tree_name)\n",
    "rollout_path = os.path.join(model_dir, rollout_name)"
   ]
  },
  {
   "cell_type": "code",
   "execution_count": 47,
   "metadata": {},
   "outputs": [],
   "source": [
    "tree = GameTree.load(tree_path, train=False, _skip_level=False, selection='max')"
   ]
  },
  {
   "cell_type": "code",
   "execution_count": 36,
   "metadata": {},
   "outputs": [
    {
     "output_type": "execute_result",
     "data": {
      "text/plain": [
       "'robust'"
      ]
     },
     "metadata": {},
     "execution_count": 36
    }
   ],
   "source": [
    "tree.selection = 'robust'\n",
    "tree.selection"
   ]
  },
  {
   "cell_type": "code",
   "execution_count": 13,
   "metadata": {},
   "outputs": [],
   "source": [
    "tree.skip_level = True"
   ]
  },
  {
   "cell_type": "code",
   "execution_count": 56,
   "metadata": {},
   "outputs": [],
   "source": [
    "# config = GameConfig(splits=[StartingSplit.Starting25Split, StartingSplit.Starting25Split], sandbox=True, num_players=2)\n",
    "# splits = [StartingSplit.Starting34Split, StartingSplit.Starting25Split]\n",
    "splits = [StartingSplit.StartingRandomSplit, StartingSplit.StartingRandomSplit]\n",
    "# config = GameConfig(splits=splits, sandbox=True, num_players=2, must_include=[])\n",
    "config = GameConfig(splits=splits, sandbox=False, must_include=default_kingdom)\n",
    "players = load_players(['UCT', 'BM'], [rollout_path], tree=tree, rollout_type='mlog', train=False, use_tree=True)\n",
    "# agent = load_players(['UCT'], [rollout_path], tree=tree, train=False, rollout_type='mlog', use_tree=True)[0]\n",
    "# players = [agent, agent]\n",
    "\n",
    "env = DefaultEnvironment(config, players, logger=logger)"
   ]
  },
  {
   "cell_type": "code",
   "execution_count": 20,
   "metadata": {},
   "outputs": [],
   "source": [
    "logger.setLevel(logging.ERROR)\n",
    "# logger.setLevel(BUY)"
   ]
  },
  {
   "cell_type": "code",
   "execution_count": 57,
   "metadata": {
    "tags": []
   },
   "outputs": [
    {
     "output_type": "stream",
     "name": "stderr",
     "text": [
      "100%|██████████| 1000/1000 [00:25<00:00, 39.90it/s]\n",
      "===SUMMARY===\n",
      "{0: 956, 1: 51, 'ProvinceWins': 996, 'Ties': 7}\n"
     ]
    }
   ],
   "source": [
    "sim_data = simulate(env, 1000, tree, turn_log=False, action_log=False, card_log=False)\n",
    "# sim_data = simulate(env, 1, tree, turn_log=False, action_log=False, card_log=False)"
   ]
  },
  {
   "cell_type": "code",
   "execution_count": 11,
   "metadata": {},
   "outputs": [],
   "source": [
    "data_dir = os.path.join(project_root, 'data')\n",
    "data_name ='ucthot25-bm25-1k-data'\n",
    "data_path = os.path.join(data_dir, data_name)"
   ]
  },
  {
   "cell_type": "code",
   "execution_count": 12,
   "metadata": {},
   "outputs": [],
   "source": [
    "save(data_path, sim_data)"
   ]
  },
  {
   "cell_type": "code",
   "execution_count": 23,
   "metadata": {},
   "outputs": [
    {
     "output_type": "execute_result",
     "data": {
      "text/plain": [
       "[Parent: None << (n: 8401, v: 5124.0, Q: 0.610 c: None) >> Children: [(0, 'Copper', '2018', '0.365'), (1, 'Estate', '1233', '0.328'), (2, 'None', '5150', '0.415')],\n",
       " Parent: None << (n: 41384, v: 18533.0, Q: 0.448 c: None) >> Children: [(0, 'Copper', '1117', '0.397'), (1, 'Estate', '611', '0.329'), (2, 'Silver', '37911', '0.566'), (3, 'None', '1745', '0.435')],\n",
       " Parent: None << (n: 41786, v: 18750.5, Q: 0.449 c: None) >> Children: [(0, 'Copper', '1471', '0.418'), (1, 'Estate', '785', '0.356'), (2, 'Silver', '37037', '0.567'), (3, 'None', '2493', '0.457')],\n",
       " Parent: None << (n: 8429, v: 4869.0, Q: 0.578 c: None) >> Children: [(0, 'Copper', '1075', '0.369'), (1, 'Estate', '360', '0.235'), (2, 'Duchy', '764', '0.334'), (3, 'Silver', '5382', '0.470'), (4, 'None', '848', '0.346')]]"
      ]
     },
     "metadata": {},
     "execution_count": 23
    }
   ],
   "source": [
    "tree._root.children"
   ]
  }
 ]
}